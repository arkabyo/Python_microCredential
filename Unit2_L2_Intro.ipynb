{
  "nbformat": 4,
  "nbformat_minor": 0,
  "metadata": {
    "colab": {
      "name": "Unit2_L2_Intro.ipynb",
      "provenance": [],
      "authorship_tag": "ABX9TyPNkYLoJF2Qao0DmHItJUtm",
      "include_colab_link": true
    },
    "kernelspec": {
      "name": "python3",
      "display_name": "Python 3"
    }
  },
  "cells": [
    {
      "cell_type": "markdown",
      "metadata": {
        "id": "view-in-github",
        "colab_type": "text"
      },
      "source": [
        "<a href=\"https://colab.research.google.com/github/arkabyo/microCred/blob/main/Unit2_L2_Intro.ipynb\" target=\"_parent\"><img src=\"https://colab.research.google.com/assets/colab-badge.svg\" alt=\"Open In Colab\"/></a>"
      ]
    },
    {
      "cell_type": "markdown",
      "metadata": {
        "id": "L0cWvtijoHBl"
      },
      "source": [
        "**What is Python and why is it useful?**\r\n",
        "\r\n",
        "Python is a high level programming language which is often used as a scripting language for web application. This is one of the best options to work on data analytics, data manipulation, and developing machine learning models. \r\n"
      ]
    },
    {
      "cell_type": "code",
      "metadata": {
        "id": "9L-jv5k4oIt8"
      },
      "source": [
        "#Are the following variable names allowed in python?\r\n",
        "# a. 1_message\r\n",
        "# b. Greeting_message\r\n",
        "# c. Message_1\r\n",
        "# d. First name\r\n",
        "# e. Full_name\r\n",
        "\r\n",
        "# ANS: \r\n",
        "# 1_message (option a) is not allowed. In pythong, the variable must start with a letter\r\n",
        "# First name (option b) is not allowed becuase it is using SPACE in between.\r\n"
      ],
      "execution_count": null,
      "outputs": []
    },
    {
      "cell_type": "code",
      "metadata": {
        "id": "kJ4B7ZlDox47"
      },
      "source": [
        "# Create a variable that holds the string “hello there!”\r\n",
        "welcome = \"hello there!\""
      ],
      "execution_count": 2,
      "outputs": []
    },
    {
      "cell_type": "code",
      "metadata": {
        "colab": {
          "base_uri": "https://localhost:8080/"
        },
        "id": "eg0IM_WNpn9l",
        "outputId": "56ee8512-3b10-4f16-e11f-7a0d72532086"
      },
      "source": [
        "# Create a variable for first name, last name and an email extension.\r\n",
        "# Concatenating all three together to form an email address.\r\n",
        "# For example: firstnamelastname@gmail.com\r\n",
        "\r\n",
        "first_name = \"Avijit\"\r\n",
        "last_name = \"Roy\"\r\n",
        "email_ext = \"gmail.com\"\r\n",
        "\r\n",
        "email = first_name + last_name + \"@\" + email_ext\r\n",
        "\r\n",
        "print(email)"
      ],
      "execution_count": 5,
      "outputs": [
        {
          "output_type": "stream",
          "text": [
            "AvijitRoy@gmail.com\n"
          ],
          "name": "stdout"
        }
      ]
    },
    {
      "cell_type": "code",
      "metadata": {
        "colab": {
          "base_uri": "https://localhost:8080/"
        },
        "id": "vd-aK95SqKlr",
        "outputId": "c752f82e-ef17-4b1c-f3e8-36300372ca5f"
      },
      "source": [
        "# Store someone you know name in a variable called name.\r\n",
        "# Print their name in lower and uppercase using a method.\r\n",
        "\r\n",
        "name = \"Jon Doe\"\r\n",
        "\r\n",
        "print(\"\\nIn Lower Case: \" + name.lower())\r\n",
        "print(\"In Upper Case: \" + name.upper())"
      ],
      "execution_count": 8,
      "outputs": [
        {
          "output_type": "stream",
          "text": [
            "\n",
            "In Lower Case: jon doe\n",
            "In Upper Case: JON DOE\n"
          ],
          "name": "stdout"
        }
      ]
    },
    {
      "cell_type": "code",
      "metadata": {
        "colab": {
          "base_uri": "https://localhost:8080/"
        },
        "id": "AqlMJQkKqgWe",
        "outputId": "82ee9c45-857f-4a9a-ea06-9c35c9799410"
      },
      "source": [
        "# Using a variable, ask your friend if they want to hang out on the 15th of the month.\r\n",
        "# For example, “Do you want to hang out on the 15th of this month?”\r\n",
        "# You should have to convert the number to a string.\r\n",
        "\r\n",
        "question = input(\"Do you want to hang out on the 15th of this month?\\t\")\r\n",
        "print(\"Answer: \\t\" + question)"
      ],
      "execution_count": 12,
      "outputs": [
        {
          "output_type": "stream",
          "text": [
            "Do you want to hang out on the 15th of this month?\tYes\n",
            "Answer: \tYes\n"
          ],
          "name": "stdout"
        }
      ]
    }
  ]
}