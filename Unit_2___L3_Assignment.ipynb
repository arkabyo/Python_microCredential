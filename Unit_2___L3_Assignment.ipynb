{
  "nbformat": 4,
  "nbformat_minor": 0,
  "metadata": {
    "colab": {
      "name": "Unit 2 _ L3 Assignment.ipynb",
      "provenance": [],
      "collapsed_sections": [],
      "authorship_tag": "ABX9TyOA+lmTCFoifzMDohEXSbDy",
      "include_colab_link": true
    },
    "kernelspec": {
      "name": "python3",
      "display_name": "Python 3"
    }
  },
  "cells": [
    {
      "cell_type": "markdown",
      "metadata": {
        "id": "view-in-github",
        "colab_type": "text"
      },
      "source": [
        "<a href=\"https://colab.research.google.com/github/arkabyo/microCred/blob/main/Unit_2___L3_Assignment.ipynb\" target=\"_parent\"><img src=\"https://colab.research.google.com/assets/colab-badge.svg\" alt=\"Open In Colab\"/></a>"
      ]
    },
    {
      "cell_type": "code",
      "metadata": {
        "colab": {
          "base_uri": "https://localhost:8080/"
        },
        "id": "kwDXRRaGi3UK",
        "outputId": "8c815295-7d77-4ca5-9f17-2d1b5f035338"
      },
      "source": [
        "print(\"Unit 2, L3 List Assignment : Avijit Roy\\n\\n\")\r\n",
        "# Create a list of 5 of your favorite tv shows.\r\n",
        "movies = [\"Harry Potter\", \"Soul\", \"Life of Pie\", \"The Pursuit of Happyness\", \"Hachi: A Dog's Tale\"]"
      ],
      "execution_count": 19,
      "outputs": [
        {
          "output_type": "stream",
          "text": [
            "Unit 2, L3 List Assignment : Avijit Roy\n",
            "\n",
            "\n"
          ],
          "name": "stdout"
        }
      ]
    },
    {
      "cell_type": "code",
      "metadata": {
        "colab": {
          "base_uri": "https://localhost:8080/"
        },
        "id": "bsOsYYwjo6Jt",
        "outputId": "4470f4da-2ddf-4479-843d-a8e21e126503"
      },
      "source": [
        "# Print the list in its original order.\r\n",
        "print(\"\\nList in original order: \" + str(movies))"
      ],
      "execution_count": 20,
      "outputs": [
        {
          "output_type": "stream",
          "text": [
            "\n",
            "List in original order: ['Harry Potter', 'Soul', 'Life of Pie', 'The Pursuit of Happyness', \"Hachi: A Dog's Tale\"]\n"
          ],
          "name": "stdout"
        }
      ]
    },
    {
      "cell_type": "code",
      "metadata": {
        "colab": {
          "base_uri": "https://localhost:8080/"
        },
        "id": "HNSApO6Oo9Pc",
        "outputId": "8ca55af1-6de8-44ca-cdc6-c231beb7e67f"
      },
      "source": [
        "# Use the sorted() function to print the list in alphabetical order.  How is sorted() different from sort()?\r\n",
        "print(\"\\nList printed in sorted order using sorted() : \" + str(sorted(movies)))\r\n",
        "\r\n",
        "# sorted() sorts the list remporarily in the print statement where sort() sorts it permanently.\r\n",
        "# Every print statement after sort() will print the list sorted\r\n",
        "# Every print statement after sorted() will print the list as original order\r\n"
      ],
      "execution_count": 21,
      "outputs": [
        {
          "output_type": "stream",
          "text": [
            "\n",
            "List printed in sorted order using sorted() : [\"Hachi: A Dog's Tale\", 'Harry Potter', 'Life of Pie', 'Soul', 'The Pursuit of Happyness']\n"
          ],
          "name": "stdout"
        }
      ]
    },
    {
      "cell_type": "code",
      "metadata": {
        "colab": {
          "base_uri": "https://localhost:8080/"
        },
        "id": "SabiTfN7pBeP",
        "outputId": "dd3173af-7934-495c-b1f1-e9f1690ad773"
      },
      "source": [
        "#Print out your original list.\r\n",
        "print(\"\\nList in original order: \" + str(movies))\r\n"
      ],
      "execution_count": 22,
      "outputs": [
        {
          "output_type": "stream",
          "text": [
            "\n",
            "List in original order: ['Harry Potter', 'Soul', 'Life of Pie', 'The Pursuit of Happyness', \"Hachi: A Dog's Tale\"]\n"
          ],
          "name": "stdout"
        }
      ]
    },
    {
      "cell_type": "code",
      "metadata": {
        "colab": {
          "base_uri": "https://localhost:8080/"
        },
        "id": "QVGJFr7dpD-7",
        "outputId": "e6c31833-bcca-49e0-f8f1-1b38fa811e01"
      },
      "source": [
        "#Used sorted() to print your list in reverse alphabetical order.\r\n",
        "print(\"\\nList printed in sorted order using sorted() reverse : \" + str(sorted(movies, reverse=True)))"
      ],
      "execution_count": 23,
      "outputs": [
        {
          "output_type": "stream",
          "text": [
            "\n",
            "List printed in sorted order using sorted() reverse : ['The Pursuit of Happyness', 'Soul', 'Life of Pie', 'Harry Potter', \"Hachi: A Dog's Tale\"]\n"
          ],
          "name": "stdout"
        }
      ]
    },
    {
      "cell_type": "code",
      "metadata": {
        "colab": {
          "base_uri": "https://localhost:8080/"
        },
        "id": "RquluDUApGWT",
        "outputId": "6c508d62-19c6-4fd4-f8b6-b2e3fb594ad3"
      },
      "source": [
        "#Create a message indicating how many favorite TV shows you have – use the len() function.\r\n",
        "print(\"\\nI have total \" + str(len(movies)) + \" favorite movies\")"
      ],
      "execution_count": 24,
      "outputs": [
        {
          "output_type": "stream",
          "text": [
            "\n",
            "I have total 5 favorite movies\n"
          ],
          "name": "stdout"
        }
      ]
    }
  ]
}