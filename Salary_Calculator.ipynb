{
  "nbformat": 4,
  "nbformat_minor": 0,
  "metadata": {
    "colab": {
      "name": "Salary Calculator.ipynb",
      "provenance": [],
      "collapsed_sections": [],
      "authorship_tag": "ABX9TyMCJInGhpn7Nno0HIj6yUWb",
      "include_colab_link": true
    },
    "kernelspec": {
      "name": "python3",
      "display_name": "Python 3"
    }
  },
  "cells": [
    {
      "cell_type": "markdown",
      "metadata": {
        "id": "view-in-github",
        "colab_type": "text"
      },
      "source": [
        "<a href=\"https://colab.research.google.com/github/arkabyo/microCred/blob/main/Salary_Calculator.ipynb\" target=\"_parent\"><img src=\"https://colab.research.google.com/assets/colab-badge.svg\" alt=\"Open In Colab\"/></a>"
      ]
    },
    {
      "cell_type": "code",
      "metadata": {
        "colab": {
          "base_uri": "https://localhost:8080/"
        },
        "id": "SNJptKZVgjZH",
        "outputId": "35f03c5d-11ed-42c4-b6f5-d285c7d9b108"
      },
      "source": [
        "# Functions\r\n",
        "# Calculate Gross Pay\r\n",
        "def gross(hours, pay_rate):\r\n",
        "  # handle negative hours\r\n",
        "  if (hours <= 0):\r\n",
        "    return \"Invalid Hours\"\r\n",
        "  # no overtime gross pay\r\n",
        "  elif (hours > 0 and hours <= 40):\r\n",
        "    return hours * pay_rate\r\n",
        "  # Gross Pay with overtime\r\n",
        "  else:\r\n",
        "    return float((40 * pay_rate) + ((hours-40) * 1.5 * pay_rate))\r\n",
        "\r\n",
        "# keeping Gross Pay into a variable for easy access\r\n",
        "gross_pay = gross(hours, pay_rate)\r\n",
        "\r\n",
        "# calculate 401K deduction\r\n",
        "def k401():\r\n",
        "  return (gross_pay * b_401k)\r\n",
        "\r\n",
        "# calculate health insurace deduction\r\n",
        "def health_ins_deduct():\r\n",
        "  return gross_pay * health_ins\r\n",
        "\r\n",
        "# calculate federal tax deduction\r\n",
        "def f_tax():\r\n",
        "  return ((gross_pay-k401())*fed_tax)\r\n",
        "\r\n",
        "# calculate state tax deduction\r\n",
        "def s_tax():\r\n",
        "  return ((gross_pay-k401())*state_tax)\r\n",
        "\r\n",
        "# calculate Net Pay\r\n",
        "def net_pay():\r\n",
        "  return gross_pay - (k401()+health_ins_deduct()+f_tax()+s_tax())\r\n",
        "\r\n",
        "#Main Program Starts\r\n",
        "\r\n",
        "# Federal Tax 20%\r\n",
        "fed_tax = 0.20\r\n",
        "\r\n",
        "# State Tax 7%\r\n",
        "state_tax = 0.07\r\n",
        "\r\n",
        "# Health Insurance 5%\r\n",
        "health_ins = 0.05\r\n",
        "\r\n",
        "# 401k 10%\r\n",
        "b_401k = 0.10\r\n",
        "\r\n",
        "\r\n",
        "# Take input of total number of hours worked\r\n",
        "hours = float(input(\"Please enter how many hours you worked\\t: \\t\"))\r\n",
        "\r\n",
        "# Take input of hourly Pay Rate\r\n",
        "pay_rate = float(input(\"Please enter your hourly payrate\\t:\\t\"))\r\n",
        "\r\n",
        "print(\"\\nGross Pay\\t\\t:\\t\" + str(\"{:.2f}\".format(gross(hours, pay_rate))))\r\n",
        "print(\"401k\\t\\t\\t:\\t\" + str(\"{:.2f}\".format(k401())))\r\n",
        "print(\"Health Insurance\\t:\\t\" + str(\"{:.2f}\".format(health_ins_deduct())))\r\n",
        "print(\"Federal Tax\\t\\t:\\t\" + str(\"{:.2f}\".format(f_tax())))\r\n",
        "print(\"State Tax\\t\\t:\\t\" + str(\"{:.2f}\".format(s_tax())))\r\n",
        "print(\"Net Pay\\t\\t\\t:\\t\" + str(\"{:.2f}\".format(net_pay())))"
      ],
      "execution_count": 12,
      "outputs": [
        {
          "output_type": "stream",
          "text": [
            "Please enter how many hours you worked\t: \t50\n",
            "Please enter your hourly payrate\t:\t20\n",
            "\n",
            "Gross Pay\t\t:\t1100.00\n",
            "401k\t\t\t:\t64.50\n",
            "Health Insurance\t:\t32.25\n",
            "Federal Tax\t\t:\t116.10\n",
            "State Tax\t\t:\t40.64\n",
            "Net Pay\t\t\t:\t391.51\n"
          ],
          "name": "stdout"
        }
      ]
    }
  ]
}