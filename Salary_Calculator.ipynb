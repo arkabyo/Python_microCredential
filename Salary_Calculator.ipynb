{
  "nbformat": 4,
  "nbformat_minor": 0,
  "metadata": {
    "colab": {
      "name": "Salary Calculator.ipynb",
      "provenance": [],
      "collapsed_sections": [],
      "authorship_tag": "ABX9TyNYDuriD8jcGLI1M86KCgE3",
      "include_colab_link": true
    },
    "kernelspec": {
      "name": "python3",
      "display_name": "Python 3"
    }
  },
  "cells": [
    {
      "cell_type": "markdown",
      "metadata": {
        "id": "view-in-github",
        "colab_type": "text"
      },
      "source": [
        "<a href=\"https://colab.research.google.com/github/arkabyo/microCred/blob/main/Salary_Calculator.ipynb\" target=\"_parent\"><img src=\"https://colab.research.google.com/assets/colab-badge.svg\" alt=\"Open In Colab\"/></a>"
      ]
    },
    {
      "cell_type": "code",
      "metadata": {
        "colab": {
          "base_uri": "https://localhost:8080/"
        },
        "id": "SNJptKZVgjZH",
        "outputId": "ab1f0e1c-f0a1-4b1e-f1df-dc023b463454"
      },
      "source": [
        "# Create a Salary Calculator which will show Gross Pay, 401k Benefits,\r\n",
        "# Health Insurance, Federal Tax, State Tax, and calculated Net Pay\r\n",
        "# Ask user input for hour and pay rate\r\n",
        "# For over 40 hours, calculate 1.5x hour\r\n",
        "# 401k will be calculated on Gross\r\n",
        "# Tax will be calculated after deducting 401k\r\n",
        "# Health Insurance will be calculated on total Gross\r\n",
        "\r\n",
        "def calculate():\r\n",
        "  # Calculate Gross Pay\r\n",
        "  def gross(hours, pay_rate):\r\n",
        "    # no overtime gross pay\r\n",
        "    if (float(hours) > 0 and float(hours) <= 40):\r\n",
        "      return float(float(hours) * float(pay_rate))\r\n",
        "    # Gross Pay with overtime\r\n",
        "    elif (float(hours) > 40):\r\n",
        "      return float((40 * float(pay_rate)) + ((hours-40) * 1.5 * float(pay_rate)))\r\n",
        "\r\n",
        "  # calculate 401K deduction\r\n",
        "  def k401():\r\n",
        "    return gross_pay * .10\r\n",
        "\r\n",
        "  # calculate health insurace deduction\r\n",
        "  def health_ins_deduct():\r\n",
        "    return float(gross_pay * health_ins)\r\n",
        "\r\n",
        "  # calculate federal tax deduction\r\n",
        "  def f_tax():\r\n",
        "    return ((gross_pay-k401())*fed_tax)\r\n",
        "\r\n",
        "  # calculate state tax deduction\r\n",
        "  def s_tax():\r\n",
        "    return ((gross_pay-k401())*state_tax)\r\n",
        "\r\n",
        "  # calculate Net Pay\r\n",
        "  def net_pay():\r\n",
        "    return gross_pay - (k401()+health_ins_deduct()+f_tax()+s_tax())\r\n",
        "\r\n",
        "\r\n",
        "#main function\r\n",
        "  # Federal Tax 20%\r\n",
        "  fed_tax = 0.20\r\n",
        "\r\n",
        "  # State Tax 7%\r\n",
        "  state_tax = 0.07\r\n",
        "\r\n",
        "  # Health Insurance 5%\r\n",
        "  health_ins = 0.05\r\n",
        "\r\n",
        "  # 401k 10%\r\n",
        "  b_401k = 0.10\r\n",
        "\r\n",
        "  # Take input of total number of hours worked\r\n",
        "  hours = input(\"Please enter how many hours you worked\\t: \\t\")\r\n",
        "\r\n",
        "  # Take input of hourly Pay Rate\r\n",
        "  pay_rate = input(\"Please enter your hourly payrate\\t:\\t\")\r\n",
        "\r\n",
        "  # output\r\n",
        "  try:\r\n",
        "    #checks if input is float or not.\r\n",
        "    val = float(hours)\r\n",
        "    val2 = float(pay_rate)\r\n",
        "\r\n",
        "    #if input is float, the below code will execute\r\n",
        "\r\n",
        "    # keeping Gross Pay into a variable for easy access\r\n",
        "    gross_pay = gross(float(hours), float(pay_rate))\r\n",
        "\r\n",
        "    # Outputs if inputs are greater than 0\r\n",
        "    if (float(hours) > 0 and float(pay_rate) > 0):\r\n",
        "      print(\"\\nGross Pay\\t\\t:\\t\" + str((gross(hours, pay_rate))))\r\n",
        "      print(\"401k\\t\\t\\t:\\t\" + str(\"{:.2f}\".format(k401())))\r\n",
        "      print(\"Health Insurance\\t:\\t\" + str(\"{:.2f}\".format(health_ins_deduct())))\r\n",
        "      print(\"Federal Tax\\t\\t:\\t\" + str(\"{:.2f}\".format(f_tax())))\r\n",
        "      print(\"State Tax\\t\\t:\\t\" + str(\"{:.2f}\".format(s_tax())))\r\n",
        "      print(\"Net Pay\\t\\t\\t:\\t\" + str(\"{:.2f}\".format(net_pay())))\r\n",
        "\r\n",
        "    else: # if inputs are less than zero\r\n",
        "      print(\"\\nPlease enter a positive number. Try again\\n\")\r\n",
        "      \r\n",
        "      # Re-Call the function when number is not positive\r\n",
        "      calculate()\r\n",
        "\r\n",
        "  # if input is not a Float\r\n",
        "  except ValueError:\r\n",
        "    print(\"\\nInvalid Input. Please enter a number. Try again\\n\")\r\n",
        "\r\n",
        "    # Re-Call the function when the inputs are not a Number\r\n",
        "    calculate()\r\n",
        "\r\n",
        "# Main calculation function    \r\n",
        "calculate()"
      ],
      "execution_count": null,
      "outputs": [
        {
          "output_type": "stream",
          "text": [
            "Please enter how many hours you worked\t: \t20\n",
            "Please enter your hourly payrate\t:\t20\n",
            "\n",
            "Gross Pay\t\t:\t400.0\n",
            "401k\t\t\t:\t40.00\n",
            "Health Insurance\t:\t20.00\n",
            "Federal Tax\t\t:\t72.00\n",
            "State Tax\t\t:\t25.20\n",
            "Net Pay\t\t\t:\t242.80\n"
          ],
          "name": "stdout"
        }
      ]
    }
  ]
}