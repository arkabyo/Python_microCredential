{
  "nbformat": 4,
  "nbformat_minor": 0,
  "metadata": {
    "colab": {
      "name": "Unit 2 - Lesson 3 - Practice Assignments.ipynb",
      "provenance": [],
      "authorship_tag": "ABX9TyM4T42velfRyWRxTZnlbtCW",
      "include_colab_link": true
    },
    "kernelspec": {
      "name": "python3",
      "display_name": "Python 3"
    }
  },
  "cells": [
    {
      "cell_type": "markdown",
      "metadata": {
        "id": "view-in-github",
        "colab_type": "text"
      },
      "source": [
        "<a href=\"https://colab.research.google.com/github/arkabyo/microCred/blob/main/Unit_2_Lesson_3_Practice_Assignments.ipynb\" target=\"_parent\"><img src=\"https://colab.research.google.com/assets/colab-badge.svg\" alt=\"Open In Colab\"/></a>"
      ]
    },
    {
      "cell_type": "markdown",
      "metadata": {
        "id": "R58WGKVIAPmn"
      },
      "source": [
        "#**1)\tWrite a Python program to construct the following pattern, using a nested for loop.**"
      ]
    },
    {
      "cell_type": "code",
      "metadata": {
        "colab": {
          "base_uri": "https://localhost:8080/"
        },
        "id": "HCH5OI84IRxY",
        "outputId": "523aecef-f308-47ce-93d1-68dee78fa682"
      },
      "source": [
        "count = 5\r\n",
        "for i in range(count):\r\n",
        "  for j in range(i):\r\n",
        "    print(\"* \", end = \"\")\r\n",
        "  print(\"\")\r\n",
        "for i in range(count,0,-1):\r\n",
        "  for j in range(i):\r\n",
        "    print(\"* \", end = \"\")\r\n",
        "  print(\"\")"
      ],
      "execution_count": 66,
      "outputs": [
        {
          "output_type": "stream",
          "text": [
            "\n",
            "* \n",
            "* * \n",
            "* * * \n",
            "* * * * \n",
            "* * * * * \n",
            "* * * * \n",
            "* * * \n",
            "* * \n",
            "* \n"
          ],
          "name": "stdout"
        }
      ]
    },
    {
      "cell_type": "markdown",
      "metadata": {
        "id": "-IAeN6C5Ktrn"
      },
      "source": [
        "#**2)\tWrite a Python program that accepts a word from the user and reverse it. Hint: use range() function**"
      ]
    },
    {
      "cell_type": "code",
      "metadata": {
        "colab": {
          "base_uri": "https://localhost:8080/"
        },
        "id": "hwfycBgDJH_-",
        "outputId": "9bd470cb-8ddb-4715-8b90-690ebe1dc47f"
      },
      "source": [
        "word = input(\"Enter a word to reverse: \")\r\n",
        "\r\n",
        "for char in range(len(word) - 1, -1, -1):\r\n",
        "  print(word[char], end = \"\")"
      ],
      "execution_count": 65,
      "outputs": [
        {
          "output_type": "stream",
          "text": [
            "Enter a word to reverse: Python\n",
            "nohtyP"
          ],
          "name": "stdout"
        }
      ]
    },
    {
      "cell_type": "markdown",
      "metadata": {
        "id": "a6B697D0Kmw-"
      },
      "source": [
        "#**3) Write a Python program that prints all the numbers from 0 to 6 except 3 and 6.**\r\n",
        "\r\n",
        "**Note : Use 'continue' statement.**\r\n",
        "\r\n",
        "**Expected Output : 0 1 2 4 5**"
      ]
    },
    {
      "cell_type": "code",
      "metadata": {
        "colab": {
          "base_uri": "https://localhost:8080/"
        },
        "id": "br5qks0kAfnc",
        "outputId": "c82cab66-2d4f-4fae-fab9-1dc2f0f0cb75"
      },
      "source": [
        "numbers = range(6)\r\n",
        "for num in numbers:\r\n",
        "  if(num == 3 or num == 6):\r\n",
        "    continue\r\n",
        "  print(num, end=\" \")\r\n",
        "\r\n",
        "# a different version\r\n",
        " #if(num != 3 and num != 6):\r\n",
        "    #print(num, end=\" \")\r\n"
      ],
      "execution_count": 72,
      "outputs": [
        {
          "output_type": "stream",
          "text": [
            "0 1 2 4 5 "
          ],
          "name": "stdout"
        }
      ]
    },
    {
      "cell_type": "markdown",
      "metadata": {
        "id": "hXCoangmK5xv"
      },
      "source": [
        "#**4)\tWrite a Python program to calculate a dog's age in dog's years.**\r\n",
        "\r\n",
        "**Note: For the first two years, a dog year is equal to 10.5 human years. After that, each dog year equals 4 human years.**\r\n",
        "\r\n",
        "**Expected Output:**\r\n",
        "\r\n",
        "**Input a dog's age in human years: 15**                                    \r\n",
        "\r\n",
        "**The dog's age in dog's years is 73**"
      ]
    },
    {
      "cell_type": "code",
      "metadata": {
        "colab": {
          "base_uri": "https://localhost:8080/"
        },
        "id": "utCmsdM3FULV",
        "outputId": "92ca41f8-8856-4071-f79e-d87ec5bf6d6f"
      },
      "source": [
        "human_age = int(input(\"Input a dog'g age in human years: \"))\r\n",
        "if (human_age <= 2):\r\n",
        "  dog_age = human_age * 10.5\r\n",
        "else:\r\n",
        "  dog_age =  21 + (human_age - 2)*4\r\n",
        "\r\n",
        "print(\"The dog's age in dog's years is: \" + str(dog_age))"
      ],
      "execution_count": 44,
      "outputs": [
        {
          "output_type": "stream",
          "text": [
            "Input a dog'g age in human years: 15\n",
            "The dog's age in dog's years is: 73\n"
          ],
          "name": "stdout"
        }
      ]
    }
  ]
}