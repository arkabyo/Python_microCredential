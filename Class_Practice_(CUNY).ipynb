{
  "nbformat": 4,
  "nbformat_minor": 0,
  "metadata": {
    "colab": {
      "name": "Class Practice (CUNY).ipynb",
      "provenance": [],
      "collapsed_sections": [],
      "authorship_tag": "ABX9TyOYmwDladR2544X4p1vxTiF",
      "include_colab_link": true
    },
    "kernelspec": {
      "name": "python3",
      "display_name": "Python 3"
    }
  },
  "cells": [
    {
      "cell_type": "markdown",
      "metadata": {
        "id": "view-in-github",
        "colab_type": "text"
      },
      "source": [
        "<a href=\"https://colab.research.google.com/github/arkabyo/microCred/blob/main/Class_Practice_(CUNY).ipynb\" target=\"_parent\"><img src=\"https://colab.research.google.com/assets/colab-badge.svg\" alt=\"Open In Colab\"/></a>"
      ]
    },
    {
      "cell_type": "code",
      "metadata": {
        "colab": {
          "base_uri": "https://localhost:8080/"
        },
        "id": "3BXgammkQB3K",
        "outputId": "3fed1efb-33e6-42c1-af05-1f50241288a0"
      },
      "source": [
        "print(\"hello everyone\")"
      ],
      "execution_count": null,
      "outputs": [
        {
          "output_type": "stream",
          "text": [
            "hello everyone\n"
          ],
          "name": "stdout"
        }
      ]
    },
    {
      "cell_type": "code",
      "metadata": {
        "colab": {
          "base_uri": "https://localhost:8080/"
        },
        "id": "qmto8QSV4LzN",
        "outputId": "9a8c2314-b5e5-49de-e3b2-6a3bf8ce8c1f"
      },
      "source": [
        "first_name = 'Tom'\r\n",
        "print(first_name)"
      ],
      "execution_count": null,
      "outputs": [
        {
          "output_type": "stream",
          "text": [
            "Tom\n"
          ],
          "name": "stdout"
        }
      ]
    },
    {
      "cell_type": "code",
      "metadata": {
        "colab": {
          "base_uri": "https://localhost:8080/"
        },
        "id": "qxuuUR7j4RQE",
        "outputId": "ab63b69d-9c13-4c9a-e923-4099c710cf87"
      },
      "source": [
        "first_name = 'Tom'\r\n",
        "\r\n",
        "last_name = 'Smith'\r\n",
        "\r\n",
        "print(first_name + \" \" + last_name)\r\n",
        "\r\n"
      ],
      "execution_count": null,
      "outputs": [
        {
          "output_type": "stream",
          "text": [
            "Tom Smith\n"
          ],
          "name": "stdout"
        }
      ]
    },
    {
      "cell_type": "code",
      "metadata": {
        "colab": {
          "base_uri": "https://localhost:8080/"
        },
        "id": "sX_-H63D4rMd",
        "outputId": "1a383285-78b6-4a3d-9d4a-19596f971bd6"
      },
      "source": [
        "first_name = 'Tom'\r\n",
        "last_name = 'Smith'\r\n",
        "full_name = first_name + ' ' + last_name\r\n",
        "print(full_name)\r\n"
      ],
      "execution_count": null,
      "outputs": [
        {
          "output_type": "stream",
          "text": [
            "Tom Smith\n"
          ],
          "name": "stdout"
        }
      ]
    },
    {
      "cell_type": "code",
      "metadata": {
        "colab": {
          "base_uri": "https://localhost:8080/"
        },
        "id": "jqAb_Bib5He9",
        "outputId": "1e1b02a8-b430-4726-b8d1-a18892cf6702"
      },
      "source": [
        "first_name = 'Mark'\r\n",
        "last_name = 'O\\'Brien'\r\n",
        "full_name = first_name + ' ' + last_name\r\n",
        "print (full_name)\r\n",
        "\r\n"
      ],
      "execution_count": null,
      "outputs": [
        {
          "output_type": "stream",
          "text": [
            "Mark O'Brien\n"
          ],
          "name": "stdout"
        }
      ]
    },
    {
      "cell_type": "code",
      "metadata": {
        "colab": {
          "base_uri": "https://localhost:8080/"
        },
        "id": "T3k7VEiw5j0-",
        "outputId": "13b29413-4bcf-47cb-89f4-bc9983922038"
      },
      "source": [
        "eggs_count = 12\r\n",
        "eggs_sold = 3\r\n",
        "eggs_left = eggs_count - eggs_sold\r\n",
        "print('There are ' + str(eggs_left) + ' to be sold') #convert integer to string using str\r\n"
      ],
      "execution_count": null,
      "outputs": [
        {
          "output_type": "stream",
          "text": [
            "There are 9 to be sold\n"
          ],
          "name": "stdout"
        }
      ]
    },
    {
      "cell_type": "code",
      "metadata": {
        "colab": {
          "base_uri": "https://localhost:8080/"
        },
        "id": "OgCSaRlz6gk9",
        "outputId": "e71dfdd0-88c8-4a9b-ce3b-dad6a052621c"
      },
      "source": [
        "hours = 27.5\r\n",
        "rate = 10.00\r\n",
        "pay = hours * rate\r\n",
        "print(pay)\r\n"
      ],
      "execution_count": null,
      "outputs": [
        {
          "output_type": "stream",
          "text": [
            "275.0\n"
          ],
          "name": "stdout"
        }
      ]
    },
    {
      "cell_type": "code",
      "metadata": {
        "colab": {
          "base_uri": "https://localhost:8080/"
        },
        "id": "ClTNSXn66wd9",
        "outputId": "c2164236-8ef7-4f2e-d4f6-19f9171259db"
      },
      "source": [
        "hours = 27.5\r\n",
        "rate = 10.00\r\n",
        "pay = hours * rate\r\n",
        "print(\"{:.2f}\".format(pay))  #to format the number. {:.2f} \r\n"
      ],
      "execution_count": null,
      "outputs": [
        {
          "output_type": "stream",
          "text": [
            "275.00\n"
          ],
          "name": "stdout"
        }
      ]
    },
    {
      "cell_type": "code",
      "metadata": {
        "colab": {
          "base_uri": "https://localhost:8080/"
        },
        "id": "VviHhZaH8ArP",
        "outputId": "d9279c33-0dcd-4c7e-ad71-7d56ef2196e5"
      },
      "source": [
        "married = True\r\n",
        "print('The employee is married, True / False? ' + str(married)) #convert any type of data to string using str\r\n"
      ],
      "execution_count": null,
      "outputs": [
        {
          "output_type": "stream",
          "text": [
            "The employee is married, True / False? True\n"
          ],
          "name": "stdout"
        }
      ]
    },
    {
      "cell_type": "code",
      "metadata": {
        "colab": {
          "base_uri": "https://localhost:8080/"
        },
        "id": "Tp09eaBj81N2",
        "outputId": "413246dc-e744-4809-b9e3-ee71b8af3cdc"
      },
      "source": [
        "answer = (5<=4)\r\n",
        "print(answer)\r\n"
      ],
      "execution_count": null,
      "outputs": [
        {
          "output_type": "stream",
          "text": [
            "False\n"
          ],
          "name": "stdout"
        }
      ]
    },
    {
      "cell_type": "code",
      "metadata": {
        "colab": {
          "base_uri": "https://localhost:8080/"
        },
        "id": "chi7YykZ82bl",
        "outputId": "6200c3fd-b1c4-44b7-dc07-dae8080ab1ae"
      },
      "source": [
        "team = ['Bob', 'Tom', 'Randy']\r\n",
        "print(team)"
      ],
      "execution_count": null,
      "outputs": [
        {
          "output_type": "stream",
          "text": [
            "['Bob', 'Tom', 'Randy']\n"
          ],
          "name": "stdout"
        }
      ]
    },
    {
      "cell_type": "code",
      "metadata": {
        "colab": {
          "base_uri": "https://localhost:8080/"
        },
        "id": "E4KNYZpi9DZ1",
        "outputId": "d4aa9bb6-91e0-42a7-f7c3-791d9d0e7c93"
      },
      "source": [
        "team = ['Bob', 'Tom', 'Randy']\r\n",
        "print(team)\r\n",
        "team.append('Mike')   #append to add to the list\r\n",
        "print(team)"
      ],
      "execution_count": null,
      "outputs": [
        {
          "output_type": "stream",
          "text": [
            "['Bob', 'Tom', 'Randy']\n",
            "['Bob', 'Tom', 'Randy', 'Mike']\n"
          ],
          "name": "stdout"
        }
      ]
    },
    {
      "cell_type": "code",
      "metadata": {
        "colab": {
          "base_uri": "https://localhost:8080/"
        },
        "id": "1RLkJLUN9W41",
        "outputId": "54e1f64e-cbc1-4b7f-e3eb-55a3c4969a93"
      },
      "source": [
        "team = ['Bob', 'Tom', 'Randy', 'Mike']\r\n",
        "print(team)\r\n",
        "team.remove('Tom')    #remove to remove from list\r\n",
        "print(team)"
      ],
      "execution_count": null,
      "outputs": [
        {
          "output_type": "stream",
          "text": [
            "['Bob', 'Tom', 'Randy', 'Mike']\n",
            "['Bob', 'Randy', 'Mike']\n"
          ],
          "name": "stdout"
        }
      ]
    },
    {
      "cell_type": "code",
      "metadata": {
        "colab": {
          "base_uri": "https://localhost:8080/"
        },
        "id": "OQUgilZt9nB2",
        "outputId": "169d27ce-24f5-40c3-ea11-6365d72ccffe"
      },
      "source": [
        "team = ['Bob', 'Tom', 'Randy', 'Mike']\r\n",
        "print(team)\r\n",
        "team.sort()\r\n",
        "print(team)"
      ],
      "execution_count": null,
      "outputs": [
        {
          "output_type": "stream",
          "text": [
            "['Bob', 'Tom', 'Randy', 'Mike']\n",
            "['Bob', 'Mike', 'Randy', 'Tom']\n"
          ],
          "name": "stdout"
        }
      ]
    },
    {
      "cell_type": "code",
      "metadata": {
        "colab": {
          "base_uri": "https://localhost:8080/"
        },
        "id": "NI817UZS9uSW",
        "outputId": "3c5ee163-94fd-4b44-9516-5df28d85b389"
      },
      "source": [
        "print(team[1])"
      ],
      "execution_count": null,
      "outputs": [
        {
          "output_type": "stream",
          "text": [
            "Mike\n"
          ],
          "name": "stdout"
        }
      ]
    },
    {
      "cell_type": "code",
      "metadata": {
        "colab": {
          "base_uri": "https://localhost:8080/"
        },
        "id": "FVVTcBm7-K6o",
        "outputId": "7204f232-4cae-446b-c70a-eae4cbadaf06"
      },
      "source": [
        "team = ['Bob', 'Tom', 'Randy', 'Mike']\r\n",
        "print(team[1:3])\r\n"
      ],
      "execution_count": null,
      "outputs": [
        {
          "output_type": "stream",
          "text": [
            "['Tom', 'Randy']\n"
          ],
          "name": "stdout"
        }
      ]
    },
    {
      "cell_type": "code",
      "metadata": {
        "colab": {
          "base_uri": "https://localhost:8080/"
        },
        "id": "nlIlppay-cpW",
        "outputId": "42d79ef0-2060-4bb4-d5ca-58a6e91f5e4b"
      },
      "source": [
        "team = ['Bob', 'Tom', 'Randy', 'Mike']\r\n",
        "another_team = ['Jimmy', 'Paul', 'Joe']\r\n",
        "team.extend(another_team) #extend will extend the same index/list, and append will add up another list\r\n",
        "print(team)"
      ],
      "execution_count": null,
      "outputs": [
        {
          "output_type": "stream",
          "text": [
            "['Bob', 'Tom', 'Randy', 'Mike', 'Jimmy', 'Paul', 'Joe']\n"
          ],
          "name": "stdout"
        }
      ]
    },
    {
      "cell_type": "code",
      "metadata": {
        "colab": {
          "base_uri": "https://localhost:8080/"
        },
        "id": "Jnoi7LgL_dnu",
        "outputId": "dbb40b5f-45a8-4941-c790-d1fff1218dda"
      },
      "source": [
        "employee = {'first_name' : 'Tom', 'last_name' : 'Smith', 'gender': 'male'}\r\n",
        "print(employee)"
      ],
      "execution_count": null,
      "outputs": [
        {
          "output_type": "stream",
          "text": [
            "{'first_name': 'Tom', 'last_name': 'Smith', 'gender': 'male'}\n"
          ],
          "name": "stdout"
        }
      ]
    },
    {
      "cell_type": "code",
      "metadata": {
        "colab": {
          "base_uri": "https://localhost:8080/"
        },
        "id": "gaMkd-Wr_tNt",
        "outputId": "18c01ed4-40ee-4ff6-b9b2-ecc2042fb9b4"
      },
      "source": [
        "print(employee['gender'])"
      ],
      "execution_count": null,
      "outputs": [
        {
          "output_type": "stream",
          "text": [
            "male\n"
          ],
          "name": "stdout"
        }
      ]
    },
    {
      "cell_type": "code",
      "metadata": {
        "colab": {
          "base_uri": "https://localhost:8080/"
        },
        "id": "RKr4nlD4_yDl",
        "outputId": "583fc538-e6f9-438f-f013-fbb6401a3071"
      },
      "source": [
        "employee = {'first_name' : 'Tom', 'last_name' : 'Smith', 'gender': 'male'}\r\n",
        "for k, v in employee.items():   #\r\n",
        "   print(k,' = ', v)  #k is key means what we are getting, v is value of the key\r\n"
      ],
      "execution_count": null,
      "outputs": [
        {
          "output_type": "stream",
          "text": [
            "first_name  =  Tom\n",
            "last_name  =  Smith\n",
            "gender  =  male\n"
          ],
          "name": "stdout"
        }
      ]
    },
    {
      "cell_type": "code",
      "metadata": {
        "colab": {
          "base_uri": "https://localhost:8080/"
        },
        "id": "46c05dgwA3-G",
        "outputId": "ded4bb0d-2a27-47cd-9fe4-c149ca052d31"
      },
      "source": [
        "first_name = input('Enter First Name: ')\r\n",
        "last_name = input('Enter Last Name: ')\r\n",
        "full_name = first_name + \" \" + last_name\r\n",
        "print(full_name)"
      ],
      "execution_count": null,
      "outputs": [
        {
          "output_type": "stream",
          "text": [
            "Enter First Name: Avijit\n",
            "Enter Last Name: Roy\n",
            "Avijit Roy\n"
          ],
          "name": "stdout"
        }
      ]
    },
    {
      "cell_type": "code",
      "metadata": {
        "colab": {
          "base_uri": "https://localhost:8080/"
        },
        "id": "YnNIkYdrBc66",
        "outputId": "001d1360-7dd3-43c2-ada4-92de1f2b6154"
      },
      "source": [
        "first_name = input('Enter First Name: ')\r\n",
        "last_name = input('Enter Last Name: ')\r\n",
        "address1 = input('Enter your street address: ')\r\n",
        "city = input('Enter your city: ')\r\n",
        "state = input('Enter your state: ')\r\n",
        "zip = input('Enter your Zip code: ')\r\n",
        "age = input('Enter your age: ')\r\n",
        "major = input('Enter your major: ')\r\n",
        "\r\n",
        "\r\n",
        "\r\n",
        "print('\\nFirst Name: '+ first_name+ '\\n'+ 'Last Name: '+ last_name+ '\\n'+ 'Address 1: '+ address1+'\\n'+ 'City: '+ city+'\\n'+ 'State: '+ state+'\\n'+ 'Zip: '+ zip+ '\\n'+ 'Major: '+ major+'\\n'+ 'Age: '+ age)"
      ],
      "execution_count": null,
      "outputs": [
        {
          "output_type": "stream",
          "text": [
            "Enter First Name: Avijit\n",
            "Enter Last Name: Roy\n",
            "Enter your street address: 320 Manhattan Ave\n",
            "Enter your city: New York\n",
            "Enter your state: NY\n",
            "Enter your Zip code: 10026\n",
            "Enter your age: 22\n",
            "Enter your major: CSCI\n",
            "\n",
            "First Name: Avijit\n",
            "Last Name: Roy\n",
            "Address 1: 320 Manhattan Ave\n",
            "City: New York\n",
            "State: NY\n",
            "Zip: 10026\n",
            "Major: CSCI\n",
            "Age: 22\n"
          ],
          "name": "stdout"
        }
      ]
    },
    {
      "cell_type": "code",
      "metadata": {
        "colab": {
          "base_uri": "https://localhost:8080/"
        },
        "id": "UUVEYaUuHMqQ",
        "outputId": "cbf3f6d8-4504-450d-adff-cef152bf82c6"
      },
      "source": [
        "print('The following people are in my class ' + '\\n\\t-Tom' + '\\n\\t-Bob\\n\\t-Sully' + '\\n\\t' + '-Barbara' + '\\n\\t' '-Roy')"
      ],
      "execution_count": null,
      "outputs": [
        {
          "output_type": "stream",
          "text": [
            "The following people are in my class \n",
            "\t-Tom\n",
            "\t-Bob\n",
            "\t-Sully\n",
            "\t-Barbara\n",
            "\t-Roy\n"
          ],
          "name": "stdout"
        }
      ]
    },
    {
      "cell_type": "code",
      "metadata": {
        "colab": {
          "base_uri": "https://localhost:8080/"
        },
        "id": "TxTN-Q2DNBaB",
        "outputId": "cce94f65-5a8d-40bb-e468-413021870f26"
      },
      "source": [
        "Hours = int(input('Hours '))\r\n",
        "Rate = int(input('Rate '))\r\n",
        "Gross = Hours * Rate\r\n",
        "Taxes = .20\r\n",
        "NetIncome = int(Gross) - int(Gross * Taxes)\r\n",
        "\r\n",
        "print(NetIncome)"
      ],
      "execution_count": null,
      "outputs": [
        {
          "output_type": "stream",
          "text": [
            "Hours 20\n",
            "Rate 20\n",
            "320\n"
          ],
          "name": "stdout"
        }
      ]
    },
    {
      "cell_type": "code",
      "metadata": {
        "colab": {
          "base_uri": "https://localhost:8080/"
        },
        "id": "GOYiSLGZH4Ng",
        "outputId": "4a5685a9-c6f2-4b13-fb90-302f03c58ad7"
      },
      "source": [
        "full_name = input(\"Enter your Full Name: \")\r\n",
        "hours = input(\"Enter the hours worked: \")\r\n",
        "rate = input(\"What's your hourly rate?: \")\r\n",
        "gross_income = float(hours) * float(rate)\r\n",
        "tax = input(\"Enter your Tax percantage: \")\r\n",
        "tax_rate = float(tax) * .01\r\n",
        "tax_deduction = gross_income*tax_rate\r\n",
        "net_income = gross_income-tax_deduction\r\n",
        "\r\n",
        "print('\\nName           : ' + full_name + '\\nGross Income   : ' + \"{:.2f}\".format((gross_income))+ '\\nTax Deduction  : ' + \"({:.2f}\".format((tax_deduction)) + ')\\nNet Income     : ' + \"{:.2f}\".format((net_income))) #using comma will make the first line indented, so, using + is a better solution\r\n"
      ],
      "execution_count": null,
      "outputs": [
        {
          "output_type": "stream",
          "text": [
            "Enter your Full Name: Avijit Roy\n",
            "Enter the hours worked: 20\n",
            "What's your hourly rate?: 20\n",
            "Enter your Tax percantage: 20\n",
            "\n",
            "Name           : Avijit Roy\n",
            "Gross Income   : 400.00\n",
            "Tax Deduction  : (80.00)\n",
            "Net Income     : 320.00\n"
          ],
          "name": "stdout"
        }
      ]
    },
    {
      "cell_type": "markdown",
      "metadata": {
        "id": "zj8BNWxiP5s6"
      },
      "source": [
        "# **Class 2 | Jan 5, 2021**"
      ]
    },
    {
      "cell_type": "code",
      "metadata": {
        "colab": {
          "base_uri": "https://localhost:8080/"
        },
        "id": "tf1HNGZSWgQb",
        "outputId": "b78615fa-83f3-4801-f226-d7cf379b76eb"
      },
      "source": [
        "school = 'cuny john jay'\r\n",
        "print(school)"
      ],
      "execution_count": null,
      "outputs": [
        {
          "output_type": "stream",
          "text": [
            "cuny john jay\n"
          ],
          "name": "stdout"
        }
      ]
    },
    {
      "cell_type": "code",
      "metadata": {
        "colab": {
          "base_uri": "https://localhost:8080/"
        },
        "id": "Iy6N59nK6b4N",
        "outputId": "0093bdc3-9ac9-4b27-beca-b0e42d303935"
      },
      "source": [
        "school = 'cuny john jay'\r\n",
        "print(school.upper())"
      ],
      "execution_count": null,
      "outputs": [
        {
          "output_type": "stream",
          "text": [
            "CUNY JOHN JAY\n"
          ],
          "name": "stdout"
        }
      ]
    },
    {
      "cell_type": "code",
      "metadata": {
        "colab": {
          "base_uri": "https://localhost:8080/"
        },
        "id": "sGJv8jrz6yi1",
        "outputId": "b72cf4df-f05e-4115-f9d3-69154f858352"
      },
      "source": [
        "school = 'CUNY john jay'\r\n",
        "print(school.lower())"
      ],
      "execution_count": null,
      "outputs": [
        {
          "output_type": "stream",
          "text": [
            "cuny john jay\n"
          ],
          "name": "stdout"
        }
      ]
    },
    {
      "cell_type": "code",
      "metadata": {
        "colab": {
          "base_uri": "https://localhost:8080/"
        },
        "id": "aS5x_5JG63dl",
        "outputId": "6ada219a-e0b4-41d2-f502-c12e3031bf70"
      },
      "source": [
        "school = 'cuny john jay college of criminal justice'\r\n",
        "print(school.title())"
      ],
      "execution_count": null,
      "outputs": [
        {
          "output_type": "stream",
          "text": [
            "Cuny John Jay College Of Criminal Justice\n"
          ],
          "name": "stdout"
        }
      ]
    },
    {
      "cell_type": "code",
      "metadata": {
        "id": "KBDxoPZo-OvH"
      },
      "source": [
        "Cuny  Laguardia"
      ],
      "execution_count": null,
      "outputs": []
    },
    {
      "cell_type": "code",
      "metadata": {
        "colab": {
          "base_uri": "https://localhost:8080/"
        },
        "id": "M2APIw_m-rfG",
        "outputId": "e988af78-78c6-4b0f-8d0d-f2bc3b7b8998"
      },
      "source": [
        "school = 'cuny laguardia'\r\n",
        "print(school[0].upper() + school[1:4] + '\\t' + school[5].upper() + school[6:])"
      ],
      "execution_count": null,
      "outputs": [
        {
          "output_type": "stream",
          "text": [
            "Cuny\tLaguardia\n"
          ],
          "name": "stdout"
        }
      ]
    },
    {
      "cell_type": "code",
      "metadata": {
        "colab": {
          "base_uri": "https://localhost:8080/"
        },
        "id": "Pj2YNC-dASkC",
        "outputId": "e5500e9d-95e0-4a94-c145-3650685a642b"
      },
      "source": [
        "first_name = 'Thomas'\r\n",
        "last_name = '       Jackson'\r\n",
        "full_name = first_name + ' ' + last_name.strip()\r\n",
        "print(full_name)"
      ],
      "execution_count": null,
      "outputs": [
        {
          "output_type": "stream",
          "text": [
            "Thomas Jackson\n"
          ],
          "name": "stdout"
        }
      ]
    },
    {
      "cell_type": "code",
      "metadata": {
        "colab": {
          "base_uri": "https://localhost:8080/"
        },
        "id": "KcB1yrLrA5d6",
        "outputId": "92aa69fb-31e8-407c-865b-d6af4c4ed0a8"
      },
      "source": [
        "first_name = 'Thomas'\r\n",
        "middle_name = '        Rocky                    '\r\n",
        "last_name = 'Jackson'\r\n",
        "full_name = first_name + ' ' + middle_name.strip() + ' ' + last_name   #right strip\r\n",
        "print(full_name)"
      ],
      "execution_count": null,
      "outputs": [
        {
          "output_type": "stream",
          "text": [
            "Thomas Rocky Jackson\n"
          ],
          "name": "stdout"
        }
      ]
    },
    {
      "cell_type": "code",
      "metadata": {
        "colab": {
          "base_uri": "https://localhost:8080/"
        },
        "id": "ExzVevaIB085",
        "outputId": "0765639d-e12c-42a8-b663-4748f81583b2"
      },
      "source": [
        "x = 20\r\n",
        "y = 25\r\n",
        "answer = x+y\r\n",
        "print(\"The answer is \" + str(answer))"
      ],
      "execution_count": null,
      "outputs": [
        {
          "output_type": "stream",
          "text": [
            "The answer is 45\n"
          ],
          "name": "stdout"
        }
      ]
    },
    {
      "cell_type": "code",
      "metadata": {
        "colab": {
          "base_uri": "https://localhost:8080/"
        },
        "id": "lpd1hbWVDJn6",
        "outputId": "9dcfc9db-2d45-4ff7-b501-6f2f2d3c9a97"
      },
      "source": [
        "text = \"Twinkle, twinkle, little star,\\n\\tHow I wonder what you are!\\n\\t\\tUp above the world so high,\\n\\t\\tLike a diamond in the sky.\\nTwinkle, twinkle, little star,\\n\\tHow I wonder what you are\"\r\n",
        "print(text)"
      ],
      "execution_count": null,
      "outputs": [
        {
          "output_type": "stream",
          "text": [
            "Twinkle, twinkle, little star,\n",
            "\tHow I wonder what you are!\n",
            "\t\tUp above the world so high,\n",
            "\t\tLike a diamond in the sky.\n",
            "Twinkle, twinkle, little star,\n",
            "\tHow I wonder what you are\n"
          ],
          "name": "stdout"
        }
      ]
    },
    {
      "cell_type": "markdown",
      "metadata": {
        "id": "ypdHlnHSSDCE"
      },
      "source": [
        "Write a Python program to accept a filename from the user and print the extension of that. Go to the editor\r\n",
        "Sample filename : abc.java\r\n",
        "Output : java"
      ]
    },
    {
      "cell_type": "code",
      "metadata": {
        "colab": {
          "base_uri": "https://localhost:8080/"
        },
        "id": "74N7WS2wH-2_",
        "outputId": "3324a68f-84a1-469b-db06-8cea5fd5790a"
      },
      "source": [
        "#Write a Python program to accept a filename from the user and print the extension of that. Go to the editor\r\n",
        "#Sample filename : abc.java\r\n",
        "#Output : java\r\n",
        "\r\n",
        "file_name = input(\"Sample filename: \")\r\n",
        "file_ext = file_name.split(\".\")\r\n",
        "print(\"Output: \" + file_ext[-1])"
      ],
      "execution_count": null,
      "outputs": [
        {
          "output_type": "stream",
          "text": [
            "Sample filename: Roy\n",
            "Output: Roy\n"
          ],
          "name": "stdout"
        }
      ]
    },
    {
      "cell_type": "markdown",
      "metadata": {
        "id": "BrAKm46pSAx4"
      },
      "source": [
        "Write a Python program to get the Python version you are using.\r\n",
        "\r\n",
        "Write a Python program to display the current date and time.\r\n",
        "Sample Output :"
      ]
    },
    {
      "cell_type": "code",
      "metadata": {
        "colab": {
          "base_uri": "https://localhost:8080/"
        },
        "id": "LPx_lxy_Lybb",
        "outputId": "abdc2644-ac73-46fa-aa5a-6ebc0bcd2bd7"
      },
      "source": [
        "#Write a Python program to get the Python version you are using.\r\n",
        "\r\n",
        "import sys\r\n",
        "print(\"Python Version is :\\n\" + sys.version)\r\n",
        "\r\n",
        "#Write a Python program to display the current date and time.\r\n",
        "\r\n",
        "from datetime import datetime\r\n",
        "print(\"\\nCurrent Date and Time is: \", dt_string)"
      ],
      "execution_count": null,
      "outputs": [
        {
          "output_type": "stream",
          "text": [
            "Python Version is :\n",
            "3.6.9 (default, Oct  8 2020, 12:12:24) \n",
            "[GCC 8.4.0]\n",
            "\n",
            "Current Date and Time is:  06/01/2021 00:54:52\n"
          ],
          "name": "stdout"
        }
      ]
    },
    {
      "cell_type": "markdown",
      "metadata": {
        "id": "5jzlJddvR-J9"
      },
      "source": [
        "Write a Python program to print all even numbers SORTED from a given numbers list in the same order and stop the printing if any numbers that come after 237 in the sequence. Go to the editor\r\n",
        "Sample numbers list :\r\n",
        "\r\n",
        "numbers = [    \r\n",
        "    386, 462, 47, 418, 907, 344, 236, 375, 823, 566, 597, 978, 328, 615, 953, 345, \r\n",
        "    399, 162, 758, 219, 918, 237, 412, 566, 826, 248, 866, 950, 626, 949, 687, 217, \r\n",
        "    815, 67, 104, 58, 512, 24, 892, 894, 767, 553, 81, 379, 843, 831, 445, 742, 717, \r\n",
        "    958,743, 527\r\n",
        "    ]"
      ]
    },
    {
      "cell_type": "code",
      "metadata": {
        "colab": {
          "base_uri": "https://localhost:8080/"
        },
        "id": "wX-OA3PXNrvH",
        "outputId": "9fd5a5d7-e742-454e-ce0b-e0f029ed9bb0"
      },
      "source": [
        "numbers = [386, 462, 47, 418, 907, 344, 236, 375, 823, 566, 597, 978, 328, 615, 953, 345, \r\n",
        "    399, 162, 758, 219, 918, 237, 412, 566, 826, 248, 866, 950, 626, 949, 687, 217, \r\n",
        "    815, 67, 104, 58, 512, 24, 892, 894, 767, 553, 81, 379, 843, 831, 445, 742, 717, \r\n",
        "    958,743, 527]\r\n",
        "\r\n",
        "numbers.sort()\r\n",
        "\r\n",
        "for num in numbers:\r\n",
        "  if num == 237:\r\n",
        "    #print(num, end = \" \")\r\n",
        "    break\r\n",
        "  elif num % 2 == 0:\r\n",
        "    #result = num\r\n",
        "    print(num, end = \" \")"
      ],
      "execution_count": null,
      "outputs": [
        {
          "output_type": "stream",
          "text": [
            "24 58 104 162 236 "
          ],
          "name": "stdout"
        }
      ]
    },
    {
      "cell_type": "code",
      "metadata": {
        "colab": {
          "base_uri": "https://localhost:8080/"
        },
        "id": "t-X6TQ2XRbVW",
        "outputId": "464ecb2a-f741-4ae7-f0e5-809fca349420"
      },
      "source": [
        "movies = ['star wars', 'star track', 'lord of the rings', 'avengers']\r\n",
        "print(movies)\r\n"
      ],
      "execution_count": null,
      "outputs": [
        {
          "output_type": "stream",
          "text": [
            "['star wars', 'star track', 'lord of the rings', 'avengers']\n"
          ],
          "name": "stdout"
        }
      ]
    },
    {
      "cell_type": "code",
      "metadata": {
        "colab": {
          "base_uri": "https://localhost:8080/"
        },
        "id": "pGCejEEERmn9",
        "outputId": "b87290f6-fbd7-4e29-b335-ab8ea49bff18"
      },
      "source": [
        "print(movies[1])"
      ],
      "execution_count": null,
      "outputs": [
        {
          "output_type": "stream",
          "text": [
            "star track\n"
          ],
          "name": "stdout"
        }
      ]
    },
    {
      "cell_type": "code",
      "metadata": {
        "colab": {
          "base_uri": "https://localhost:8080/"
        },
        "id": "ofO_tAC7SrP9",
        "outputId": "f5029868-5cf7-446a-95e4-f5c6aa6b6c4e"
      },
      "source": [
        "print(movies[0:3])"
      ],
      "execution_count": null,
      "outputs": [
        {
          "output_type": "stream",
          "text": [
            "['star wars', 'star track', 'lord of the rings']\n"
          ],
          "name": "stdout"
        }
      ]
    },
    {
      "cell_type": "code",
      "metadata": {
        "colab": {
          "base_uri": "https://localhost:8080/"
        },
        "id": "3_-AamlfS5JO",
        "outputId": "9bf86141-1ae4-4b84-dfba-bedc8b7fa976"
      },
      "source": [
        "print(movies[1].title())"
      ],
      "execution_count": null,
      "outputs": [
        {
          "output_type": "stream",
          "text": [
            "Star Track\n"
          ],
          "name": "stdout"
        }
      ]
    },
    {
      "cell_type": "code",
      "metadata": {
        "colab": {
          "base_uri": "https://localhost:8080/"
        },
        "id": "Rss9y4TxTcfe",
        "outputId": "d665b24f-c355-49ec-bb59-a5a971dd89b2"
      },
      "source": [
        "movies = ['star wars', 'star track', 'lord of the rings', 'avengers']\r\n",
        "\r\n",
        "for i in movies:\r\n",
        "  print(i.title(), end = \", \")\r\n",
        "#print([i.title() for i in movies])"
      ],
      "execution_count": null,
      "outputs": [
        {
          "output_type": "stream",
          "text": [
            "Star Wars, Star Track, Lord Of The Rings, Avengers, "
          ],
          "name": "stdout"
        }
      ]
    },
    {
      "cell_type": "code",
      "metadata": {
        "colab": {
          "base_uri": "https://localhost:8080/"
        },
        "id": "KmTNjwfqWaSd",
        "outputId": "85d2340c-7e27-442b-b8cc-ff47b2f274c3"
      },
      "source": [
        "message = 'My favorite movie of all time is ' + movies[0]\r\n",
        "print(message)"
      ],
      "execution_count": null,
      "outputs": [
        {
          "output_type": "stream",
          "text": [
            "My favorite movie of all time is star wars\n"
          ],
          "name": "stdout"
        }
      ]
    },
    {
      "cell_type": "code",
      "metadata": {
        "colab": {
          "base_uri": "https://localhost:8080/"
        },
        "id": "bPIButwXXHpk",
        "outputId": "acd16af4-f6b3-4f8d-ee70-70a398a63549"
      },
      "source": [
        "movies[1] = 'Grown Ups 2'\r\n",
        "print(movies)"
      ],
      "execution_count": null,
      "outputs": [
        {
          "output_type": "stream",
          "text": [
            "['star wars', 'Grown Ups 2', 'lord of the rings', 'avengers']\n"
          ],
          "name": "stdout"
        }
      ]
    },
    {
      "cell_type": "code",
      "metadata": {
        "colab": {
          "base_uri": "https://localhost:8080/"
        },
        "id": "BoVqVmASXdRm",
        "outputId": "6c78559c-21b2-4704-8fd6-62a3e698a369"
      },
      "source": [
        "movies.append('Harry Potter')\r\n",
        "print(movies)"
      ],
      "execution_count": null,
      "outputs": [
        {
          "output_type": "stream",
          "text": [
            "['star wars', 'Grown Ups 2', 'lord of the rings', 'avengers', 'Harry Potter']\n"
          ],
          "name": "stdout"
        }
      ]
    },
    {
      "cell_type": "code",
      "metadata": {
        "colab": {
          "base_uri": "https://localhost:8080/"
        },
        "id": "iVrZCNqKZzGW",
        "outputId": "64c12886-68ff-4bcb-c456-9fbb6cd2a8c1"
      },
      "source": [
        "print(movies)\r\n",
        "movies.sort()\r\n",
        "print(movies)\r\n",
        "movies.sort(reverse=True)\r\n",
        "print(movies)\r\n",
        "print(len(movies))\r\n",
        "print(movies)\r\n",
        "print(sorted(movies))\r\n",
        "print(movies)"
      ],
      "execution_count": null,
      "outputs": [
        {
          "output_type": "stream",
          "text": [
            "['star wars', 'lord of the rings', 'avengers', 'Harry Potter', 'Grown Ups 2']\n",
            "['Grown Ups 2', 'Harry Potter', 'avengers', 'lord of the rings', 'star wars']\n",
            "['star wars', 'lord of the rings', 'avengers', 'Harry Potter', 'Grown Ups 2']\n",
            "5\n",
            "['star wars', 'lord of the rings', 'avengers', 'Harry Potter', 'Grown Ups 2']\n",
            "['Grown Ups 2', 'Harry Potter', 'avengers', 'lord of the rings', 'star wars']\n",
            "['star wars', 'lord of the rings', 'avengers', 'Harry Potter', 'Grown Ups 2']\n"
          ],
          "name": "stdout"
        }
      ]
    },
    {
      "cell_type": "markdown",
      "metadata": {
        "id": "aB4sbkxsgrNd"
      },
      "source": [
        "# **Class 3 | January 6**"
      ]
    },
    {
      "cell_type": "markdown",
      "metadata": {
        "id": "e4odgf6ViLdl"
      },
      "source": [
        "Started with assignment"
      ]
    }
  ]
}