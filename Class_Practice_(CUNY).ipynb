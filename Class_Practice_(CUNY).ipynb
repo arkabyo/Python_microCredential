{
  "nbformat": 4,
  "nbformat_minor": 0,
  "metadata": {
    "colab": {
      "name": "Class Practice (CUNY).ipynb",
      "provenance": [],
      "collapsed_sections": [],
      "authorship_tag": "ABX9TyOTNu/E2VkU7jS21oSMcfSQ",
      "include_colab_link": true
    },
    "kernelspec": {
      "name": "python3",
      "display_name": "Python 3"
    }
  },
  "cells": [
    {
      "cell_type": "markdown",
      "metadata": {
        "id": "view-in-github",
        "colab_type": "text"
      },
      "source": [
        "<a href=\"https://colab.research.google.com/github/arkabyo/microCred/blob/main/Class_Practice_(CUNY).ipynb\" target=\"_parent\"><img src=\"https://colab.research.google.com/assets/colab-badge.svg\" alt=\"Open In Colab\"/></a>"
      ]
    },
    {
      "cell_type": "markdown",
      "metadata": {
        "id": "0j6qUpYVQedL"
      },
      "source": [
        "# Class 1 | January 4, 2021"
      ]
    },
    {
      "cell_type": "code",
      "metadata": {
        "colab": {
          "base_uri": "https://localhost:8080/"
        },
        "id": "_QkWWZkzQjE0",
        "outputId": "09e604ae-8d4e-464d-a4ae-4f4e59d63e6b"
      },
      "source": [
        "print(\"hello everyone\")"
      ],
      "execution_count": null,
      "outputs": [
        {
          "output_type": "stream",
          "text": [
            "hello everyone\n"
          ],
          "name": "stdout"
        }
      ]
    },
    {
      "cell_type": "code",
      "metadata": {
        "colab": {
          "base_uri": "https://localhost:8080/"
        },
        "id": "qmto8QSV4LzN",
        "outputId": "9a8c2314-b5e5-49de-e3b2-6a3bf8ce8c1f"
      },
      "source": [
        "first_name = 'Tom'\r\n",
        "print(first_name)"
      ],
      "execution_count": null,
      "outputs": [
        {
          "output_type": "stream",
          "text": [
            "Tom\n"
          ],
          "name": "stdout"
        }
      ]
    },
    {
      "cell_type": "code",
      "metadata": {
        "colab": {
          "base_uri": "https://localhost:8080/"
        },
        "id": "qxuuUR7j4RQE",
        "outputId": "ab63b69d-9c13-4c9a-e923-4099c710cf87"
      },
      "source": [
        "first_name = 'Tom'\r\n",
        "\r\n",
        "last_name = 'Smith'\r\n",
        "\r\n",
        "print(first_name + \" \" + last_name)\r\n",
        "\r\n"
      ],
      "execution_count": null,
      "outputs": [
        {
          "output_type": "stream",
          "text": [
            "Tom Smith\n"
          ],
          "name": "stdout"
        }
      ]
    },
    {
      "cell_type": "code",
      "metadata": {
        "colab": {
          "base_uri": "https://localhost:8080/"
        },
        "id": "sX_-H63D4rMd",
        "outputId": "1a383285-78b6-4a3d-9d4a-19596f971bd6"
      },
      "source": [
        "first_name = 'Tom'\r\n",
        "last_name = 'Smith'\r\n",
        "full_name = first_name + ' ' + last_name\r\n",
        "print(full_name)\r\n"
      ],
      "execution_count": null,
      "outputs": [
        {
          "output_type": "stream",
          "text": [
            "Tom Smith\n"
          ],
          "name": "stdout"
        }
      ]
    },
    {
      "cell_type": "code",
      "metadata": {
        "colab": {
          "base_uri": "https://localhost:8080/"
        },
        "id": "jqAb_Bib5He9",
        "outputId": "1e1b02a8-b430-4726-b8d1-a18892cf6702"
      },
      "source": [
        "first_name = 'Mark'\r\n",
        "last_name = 'O\\'Brien'\r\n",
        "full_name = first_name + ' ' + last_name\r\n",
        "print (full_name)\r\n",
        "\r\n"
      ],
      "execution_count": null,
      "outputs": [
        {
          "output_type": "stream",
          "text": [
            "Mark O'Brien\n"
          ],
          "name": "stdout"
        }
      ]
    },
    {
      "cell_type": "code",
      "metadata": {
        "colab": {
          "base_uri": "https://localhost:8080/"
        },
        "id": "T3k7VEiw5j0-",
        "outputId": "13b29413-4bcf-47cb-89f4-bc9983922038"
      },
      "source": [
        "eggs_count = 12\r\n",
        "eggs_sold = 3\r\n",
        "eggs_left = eggs_count - eggs_sold\r\n",
        "print('There are ' + str(eggs_left) + ' to be sold') #convert integer to string using str\r\n"
      ],
      "execution_count": null,
      "outputs": [
        {
          "output_type": "stream",
          "text": [
            "There are 9 to be sold\n"
          ],
          "name": "stdout"
        }
      ]
    },
    {
      "cell_type": "code",
      "metadata": {
        "colab": {
          "base_uri": "https://localhost:8080/"
        },
        "id": "OgCSaRlz6gk9",
        "outputId": "e71dfdd0-88c8-4a9b-ce3b-dad6a052621c"
      },
      "source": [
        "hours = 27.5\r\n",
        "rate = 10.00\r\n",
        "pay = hours * rate\r\n",
        "print(pay)\r\n"
      ],
      "execution_count": null,
      "outputs": [
        {
          "output_type": "stream",
          "text": [
            "275.0\n"
          ],
          "name": "stdout"
        }
      ]
    },
    {
      "cell_type": "code",
      "metadata": {
        "colab": {
          "base_uri": "https://localhost:8080/"
        },
        "id": "ClTNSXn66wd9",
        "outputId": "c2164236-8ef7-4f2e-d4f6-19f9171259db"
      },
      "source": [
        "hours = 27.5\r\n",
        "rate = 10.00\r\n",
        "pay = hours * rate\r\n",
        "print(\"{:.2f}\".format(pay))  #to format the number. {:.2f} \r\n"
      ],
      "execution_count": null,
      "outputs": [
        {
          "output_type": "stream",
          "text": [
            "275.00\n"
          ],
          "name": "stdout"
        }
      ]
    },
    {
      "cell_type": "code",
      "metadata": {
        "colab": {
          "base_uri": "https://localhost:8080/"
        },
        "id": "VviHhZaH8ArP",
        "outputId": "d9279c33-0dcd-4c7e-ad71-7d56ef2196e5"
      },
      "source": [
        "married = True\r\n",
        "print('The employee is married, True / False? ' + str(married)) #convert any type of data to string using str\r\n"
      ],
      "execution_count": null,
      "outputs": [
        {
          "output_type": "stream",
          "text": [
            "The employee is married, True / False? True\n"
          ],
          "name": "stdout"
        }
      ]
    },
    {
      "cell_type": "code",
      "metadata": {
        "colab": {
          "base_uri": "https://localhost:8080/"
        },
        "id": "Tp09eaBj81N2",
        "outputId": "413246dc-e744-4809-b9e3-ee71b8af3cdc"
      },
      "source": [
        "answer = (5<=4)\r\n",
        "print(answer)\r\n"
      ],
      "execution_count": null,
      "outputs": [
        {
          "output_type": "stream",
          "text": [
            "False\n"
          ],
          "name": "stdout"
        }
      ]
    },
    {
      "cell_type": "code",
      "metadata": {
        "colab": {
          "base_uri": "https://localhost:8080/"
        },
        "id": "chi7YykZ82bl",
        "outputId": "6200c3fd-b1c4-44b7-dc07-dae8080ab1ae"
      },
      "source": [
        "team = ['Bob', 'Tom', 'Randy']\r\n",
        "print(team)"
      ],
      "execution_count": null,
      "outputs": [
        {
          "output_type": "stream",
          "text": [
            "['Bob', 'Tom', 'Randy']\n"
          ],
          "name": "stdout"
        }
      ]
    },
    {
      "cell_type": "code",
      "metadata": {
        "colab": {
          "base_uri": "https://localhost:8080/"
        },
        "id": "E4KNYZpi9DZ1",
        "outputId": "d4aa9bb6-91e0-42a7-f7c3-791d9d0e7c93"
      },
      "source": [
        "team = ['Bob', 'Tom', 'Randy']\r\n",
        "print(team)\r\n",
        "team.append('Mike')   #append to add to the list\r\n",
        "print(team)"
      ],
      "execution_count": null,
      "outputs": [
        {
          "output_type": "stream",
          "text": [
            "['Bob', 'Tom', 'Randy']\n",
            "['Bob', 'Tom', 'Randy', 'Mike']\n"
          ],
          "name": "stdout"
        }
      ]
    },
    {
      "cell_type": "code",
      "metadata": {
        "colab": {
          "base_uri": "https://localhost:8080/"
        },
        "id": "1RLkJLUN9W41",
        "outputId": "54e1f64e-cbc1-4b7f-e3eb-55a3c4969a93"
      },
      "source": [
        "team = ['Bob', 'Tom', 'Randy', 'Mike']\r\n",
        "print(team)\r\n",
        "team.remove('Tom')    #remove to remove from list\r\n",
        "print(team)"
      ],
      "execution_count": null,
      "outputs": [
        {
          "output_type": "stream",
          "text": [
            "['Bob', 'Tom', 'Randy', 'Mike']\n",
            "['Bob', 'Randy', 'Mike']\n"
          ],
          "name": "stdout"
        }
      ]
    },
    {
      "cell_type": "code",
      "metadata": {
        "colab": {
          "base_uri": "https://localhost:8080/"
        },
        "id": "OQUgilZt9nB2",
        "outputId": "169d27ce-24f5-40c3-ea11-6365d72ccffe"
      },
      "source": [
        "team = ['Bob', 'Tom', 'Randy', 'Mike']\r\n",
        "print(team)\r\n",
        "team.sort()\r\n",
        "print(team)"
      ],
      "execution_count": null,
      "outputs": [
        {
          "output_type": "stream",
          "text": [
            "['Bob', 'Tom', 'Randy', 'Mike']\n",
            "['Bob', 'Mike', 'Randy', 'Tom']\n"
          ],
          "name": "stdout"
        }
      ]
    },
    {
      "cell_type": "code",
      "metadata": {
        "colab": {
          "base_uri": "https://localhost:8080/"
        },
        "id": "NI817UZS9uSW",
        "outputId": "3c5ee163-94fd-4b44-9516-5df28d85b389"
      },
      "source": [
        "print(team[1])"
      ],
      "execution_count": null,
      "outputs": [
        {
          "output_type": "stream",
          "text": [
            "Mike\n"
          ],
          "name": "stdout"
        }
      ]
    },
    {
      "cell_type": "code",
      "metadata": {
        "colab": {
          "base_uri": "https://localhost:8080/"
        },
        "id": "FVVTcBm7-K6o",
        "outputId": "7204f232-4cae-446b-c70a-eae4cbadaf06"
      },
      "source": [
        "team = ['Bob', 'Tom', 'Randy', 'Mike']\r\n",
        "print(team[1:3])\r\n"
      ],
      "execution_count": null,
      "outputs": [
        {
          "output_type": "stream",
          "text": [
            "['Tom', 'Randy']\n"
          ],
          "name": "stdout"
        }
      ]
    },
    {
      "cell_type": "code",
      "metadata": {
        "colab": {
          "base_uri": "https://localhost:8080/"
        },
        "id": "nlIlppay-cpW",
        "outputId": "42d79ef0-2060-4bb4-d5ca-58a6e91f5e4b"
      },
      "source": [
        "team = ['Bob', 'Tom', 'Randy', 'Mike']\r\n",
        "another_team = ['Jimmy', 'Paul', 'Joe']\r\n",
        "team.extend(another_team) #extend will extend the same index/list, and append will add up another list\r\n",
        "print(team)"
      ],
      "execution_count": null,
      "outputs": [
        {
          "output_type": "stream",
          "text": [
            "['Bob', 'Tom', 'Randy', 'Mike', 'Jimmy', 'Paul', 'Joe']\n"
          ],
          "name": "stdout"
        }
      ]
    },
    {
      "cell_type": "code",
      "metadata": {
        "colab": {
          "base_uri": "https://localhost:8080/"
        },
        "id": "Jnoi7LgL_dnu",
        "outputId": "dbb40b5f-45a8-4941-c790-d1fff1218dda"
      },
      "source": [
        "employee = {'first_name' : 'Tom', 'last_name' : 'Smith', 'gender': 'male'}\r\n",
        "print(employee)"
      ],
      "execution_count": null,
      "outputs": [
        {
          "output_type": "stream",
          "text": [
            "{'first_name': 'Tom', 'last_name': 'Smith', 'gender': 'male'}\n"
          ],
          "name": "stdout"
        }
      ]
    },
    {
      "cell_type": "code",
      "metadata": {
        "colab": {
          "base_uri": "https://localhost:8080/"
        },
        "id": "gaMkd-Wr_tNt",
        "outputId": "18c01ed4-40ee-4ff6-b9b2-ecc2042fb9b4"
      },
      "source": [
        "print(employee['gender'])"
      ],
      "execution_count": null,
      "outputs": [
        {
          "output_type": "stream",
          "text": [
            "male\n"
          ],
          "name": "stdout"
        }
      ]
    },
    {
      "cell_type": "code",
      "metadata": {
        "colab": {
          "base_uri": "https://localhost:8080/"
        },
        "id": "RKr4nlD4_yDl",
        "outputId": "583fc538-e6f9-438f-f013-fbb6401a3071"
      },
      "source": [
        "employee = {'first_name' : 'Tom', 'last_name' : 'Smith', 'gender': 'male'}\r\n",
        "for k, v in employee.items():   #\r\n",
        "   print(k,' = ', v)  #k is key means what we are getting, v is value of the key\r\n"
      ],
      "execution_count": null,
      "outputs": [
        {
          "output_type": "stream",
          "text": [
            "first_name  =  Tom\n",
            "last_name  =  Smith\n",
            "gender  =  male\n"
          ],
          "name": "stdout"
        }
      ]
    },
    {
      "cell_type": "code",
      "metadata": {
        "colab": {
          "base_uri": "https://localhost:8080/"
        },
        "id": "46c05dgwA3-G",
        "outputId": "ded4bb0d-2a27-47cd-9fe4-c149ca052d31"
      },
      "source": [
        "first_name = input('Enter First Name: ')\r\n",
        "last_name = input('Enter Last Name: ')\r\n",
        "full_name = first_name + \" \" + last_name\r\n",
        "print(full_name)"
      ],
      "execution_count": null,
      "outputs": [
        {
          "output_type": "stream",
          "text": [
            "Enter First Name: Avijit\n",
            "Enter Last Name: Roy\n",
            "Avijit Roy\n"
          ],
          "name": "stdout"
        }
      ]
    },
    {
      "cell_type": "code",
      "metadata": {
        "colab": {
          "base_uri": "https://localhost:8080/"
        },
        "id": "YnNIkYdrBc66",
        "outputId": "001d1360-7dd3-43c2-ada4-92de1f2b6154"
      },
      "source": [
        "first_name = input('Enter First Name: ')\r\n",
        "last_name = input('Enter Last Name: ')\r\n",
        "address1 = input('Enter your street address: ')\r\n",
        "city = input('Enter your city: ')\r\n",
        "state = input('Enter your state: ')\r\n",
        "zip = input('Enter your Zip code: ')\r\n",
        "age = input('Enter your age: ')\r\n",
        "major = input('Enter your major: ')\r\n",
        "\r\n",
        "\r\n",
        "\r\n",
        "print('\\nFirst Name: '+ first_name+ '\\n'+ 'Last Name: '+ last_name+ '\\n'+ 'Address 1: '+ address1+'\\n'+ 'City: '+ city+'\\n'+ 'State: '+ state+'\\n'+ 'Zip: '+ zip+ '\\n'+ 'Major: '+ major+'\\n'+ 'Age: '+ age)"
      ],
      "execution_count": null,
      "outputs": [
        {
          "output_type": "stream",
          "text": [
            "Enter First Name: Avijit\n",
            "Enter Last Name: Roy\n",
            "Enter your street address: 320 Manhattan Ave\n",
            "Enter your city: New York\n",
            "Enter your state: NY\n",
            "Enter your Zip code: 10026\n",
            "Enter your age: 22\n",
            "Enter your major: CSCI\n",
            "\n",
            "First Name: Avijit\n",
            "Last Name: Roy\n",
            "Address 1: 320 Manhattan Ave\n",
            "City: New York\n",
            "State: NY\n",
            "Zip: 10026\n",
            "Major: CSCI\n",
            "Age: 22\n"
          ],
          "name": "stdout"
        }
      ]
    },
    {
      "cell_type": "code",
      "metadata": {
        "colab": {
          "base_uri": "https://localhost:8080/"
        },
        "id": "UUVEYaUuHMqQ",
        "outputId": "cbf3f6d8-4504-450d-adff-cef152bf82c6"
      },
      "source": [
        "print('The following people are in my class ' + '\\n\\t-Tom' + '\\n\\t-Bob\\n\\t-Sully' + '\\n\\t' + '-Barbara' + '\\n\\t' '-Roy')"
      ],
      "execution_count": null,
      "outputs": [
        {
          "output_type": "stream",
          "text": [
            "The following people are in my class \n",
            "\t-Tom\n",
            "\t-Bob\n",
            "\t-Sully\n",
            "\t-Barbara\n",
            "\t-Roy\n"
          ],
          "name": "stdout"
        }
      ]
    },
    {
      "cell_type": "code",
      "metadata": {
        "colab": {
          "base_uri": "https://localhost:8080/"
        },
        "id": "TxTN-Q2DNBaB",
        "outputId": "cce94f65-5a8d-40bb-e468-413021870f26"
      },
      "source": [
        "Hours = int(input('Hours '))\r\n",
        "Rate = int(input('Rate '))\r\n",
        "Gross = Hours * Rate\r\n",
        "Taxes = .20\r\n",
        "NetIncome = int(Gross) - int(Gross * Taxes)\r\n",
        "\r\n",
        "print(NetIncome)"
      ],
      "execution_count": null,
      "outputs": [
        {
          "output_type": "stream",
          "text": [
            "Hours 20\n",
            "Rate 20\n",
            "320\n"
          ],
          "name": "stdout"
        }
      ]
    },
    {
      "cell_type": "code",
      "metadata": {
        "colab": {
          "base_uri": "https://localhost:8080/"
        },
        "id": "GOYiSLGZH4Ng",
        "outputId": "4a5685a9-c6f2-4b13-fb90-302f03c58ad7"
      },
      "source": [
        "full_name = input(\"Enter your Full Name: \")\r\n",
        "hours = input(\"Enter the hours worked: \")\r\n",
        "rate = input(\"What's your hourly rate?: \")\r\n",
        "gross_income = float(hours) * float(rate)\r\n",
        "tax = input(\"Enter your Tax percantage: \")\r\n",
        "tax_rate = float(tax) * .01\r\n",
        "tax_deduction = gross_income*tax_rate\r\n",
        "net_income = gross_income-tax_deduction\r\n",
        "\r\n",
        "print('\\nName           : ' + full_name + '\\nGross Income   : ' + \"{:.2f}\".format((gross_income))+ '\\nTax Deduction  : ' + \"({:.2f}\".format((tax_deduction)) + ')\\nNet Income     : ' + \"{:.2f}\".format((net_income))) #using comma will make the first line indented, so, using + is a better solution\r\n"
      ],
      "execution_count": null,
      "outputs": [
        {
          "output_type": "stream",
          "text": [
            "Enter your Full Name: Avijit Roy\n",
            "Enter the hours worked: 20\n",
            "What's your hourly rate?: 20\n",
            "Enter your Tax percantage: 20\n",
            "\n",
            "Name           : Avijit Roy\n",
            "Gross Income   : 400.00\n",
            "Tax Deduction  : (80.00)\n",
            "Net Income     : 320.00\n"
          ],
          "name": "stdout"
        }
      ]
    },
    {
      "cell_type": "markdown",
      "metadata": {
        "id": "zj8BNWxiP5s6"
      },
      "source": [
        "# **Class 2 | Jan 5, 2021**"
      ]
    },
    {
      "cell_type": "code",
      "metadata": {
        "colab": {
          "base_uri": "https://localhost:8080/"
        },
        "id": "tf1HNGZSWgQb",
        "outputId": "99ef84e1-594d-4067-bb32-9bb467a23acd"
      },
      "source": [
        "school = 'cuny john jay'\r\n",
        "print(school)"
      ],
      "execution_count": null,
      "outputs": [
        {
          "output_type": "stream",
          "text": [
            "cuny john jay\n"
          ],
          "name": "stdout"
        }
      ]
    },
    {
      "cell_type": "code",
      "metadata": {
        "colab": {
          "base_uri": "https://localhost:8080/"
        },
        "id": "Iy6N59nK6b4N",
        "outputId": "6b50ef65-5562-4b1f-f612-081226b926b9"
      },
      "source": [
        "school = 'cuny john jay'\r\n",
        "print(school.upper())"
      ],
      "execution_count": null,
      "outputs": [
        {
          "output_type": "stream",
          "text": [
            "CUNY JOHN JAY\n"
          ],
          "name": "stdout"
        }
      ]
    },
    {
      "cell_type": "code",
      "metadata": {
        "colab": {
          "base_uri": "https://localhost:8080/"
        },
        "id": "sGJv8jrz6yi1",
        "outputId": "121eb001-e9ad-4274-a845-96d16472d5d0"
      },
      "source": [
        "school = 'CUNY john jay'\r\n",
        "print(school.lower())"
      ],
      "execution_count": null,
      "outputs": [
        {
          "output_type": "stream",
          "text": [
            "cuny john jay\n"
          ],
          "name": "stdout"
        }
      ]
    },
    {
      "cell_type": "code",
      "metadata": {
        "colab": {
          "base_uri": "https://localhost:8080/"
        },
        "id": "aS5x_5JG63dl",
        "outputId": "6bd19470-a6e4-47de-8103-a581c7f1f637"
      },
      "source": [
        "school = 'cuny john jay college of criminal justice'\r\n",
        "print(school.title())"
      ],
      "execution_count": null,
      "outputs": [
        {
          "output_type": "stream",
          "text": [
            "Cuny John Jay College Of Criminal Justice\n"
          ],
          "name": "stdout"
        }
      ]
    },
    {
      "cell_type": "code",
      "metadata": {
        "colab": {
          "base_uri": "https://localhost:8080/"
        },
        "id": "M2APIw_m-rfG",
        "outputId": "1f3a914f-f4ed-450e-92e5-d85d7de3364b"
      },
      "source": [
        "school = 'cuny laguardia'\r\n",
        "print(school[0].upper() + school[1:4] + '\\t' + school[5].upper() + school[6:])"
      ],
      "execution_count": null,
      "outputs": [
        {
          "output_type": "stream",
          "text": [
            "Cuny\tLaguardia\n"
          ],
          "name": "stdout"
        }
      ]
    },
    {
      "cell_type": "code",
      "metadata": {
        "id": "Pj2YNC-dASkC"
      },
      "source": [
        "first_name = 'Thomas'\r\n",
        "last_name = '       Jackson'\r\n",
        "full_name = first_name + ' ' + last_name.strip()\r\n",
        "print(full_name)"
      ],
      "execution_count": null,
      "outputs": []
    },
    {
      "cell_type": "code",
      "metadata": {
        "id": "KcB1yrLrA5d6"
      },
      "source": [
        "first_name = 'Thomas'\r\n",
        "middle_name = '        Rocky                    '\r\n",
        "last_name = 'Jackson'\r\n",
        "full_name = first_name + ' ' + middle_name.strip() + ' ' + last_name   #right strip\r\n",
        "print(full_name)"
      ],
      "execution_count": null,
      "outputs": []
    },
    {
      "cell_type": "code",
      "metadata": {
        "id": "ExzVevaIB085"
      },
      "source": [
        "x = 20\r\n",
        "y = 25\r\n",
        "answer = x+y\r\n",
        "print(\"The answer is \" + str(answer))"
      ],
      "execution_count": null,
      "outputs": []
    },
    {
      "cell_type": "code",
      "metadata": {
        "id": "lpd1hbWVDJn6"
      },
      "source": [
        "text = \"Twinkle, twinkle, little star,\\n\\tHow I wonder what you are!\\n\\t\\tUp above the world so high,\\n\\t\\tLike a diamond in the sky.\\nTwinkle, twinkle, little star,\\n\\tHow I wonder what you are\"\r\n",
        "print(text)"
      ],
      "execution_count": null,
      "outputs": []
    },
    {
      "cell_type": "markdown",
      "metadata": {
        "id": "ypdHlnHSSDCE"
      },
      "source": [
        "Write a Python program to accept a filename from the user and print the extension of that. Go to the editor\r\n",
        "Sample filename : abc.java\r\n",
        "Output : java"
      ]
    },
    {
      "cell_type": "code",
      "metadata": {
        "id": "74N7WS2wH-2_"
      },
      "source": [
        "#Write a Python program to accept a filename from the user and print the extension of that. Go to the editor\r\n",
        "#Sample filename : abc.java\r\n",
        "#Output : java\r\n",
        "\r\n",
        "file_name = input(\"Sample filename: \")\r\n",
        "file_ext = file_name.split(\".\")\r\n",
        "print(\"Output: \" + file_ext[-1])"
      ],
      "execution_count": null,
      "outputs": []
    },
    {
      "cell_type": "markdown",
      "metadata": {
        "id": "BrAKm46pSAx4"
      },
      "source": [
        "Write a Python program to get the Python version you are using.\r\n",
        "\r\n",
        "Write a Python program to display the current date and time.\r\n",
        "Sample Output :"
      ]
    },
    {
      "cell_type": "code",
      "metadata": {
        "id": "LPx_lxy_Lybb"
      },
      "source": [
        "#Write a Python program to get the Python version you are using.\r\n",
        "\r\n",
        "import sys\r\n",
        "print(\"Python Version is :\\n\" + sys.version)\r\n",
        "\r\n",
        "#Write a Python program to display the current date and time.\r\n",
        "\r\n",
        "from datetime import datetime\r\n",
        "print(\"\\nCurrent Date and Time is: \", dt_string)"
      ],
      "execution_count": null,
      "outputs": []
    },
    {
      "cell_type": "markdown",
      "metadata": {
        "id": "5jzlJddvR-J9"
      },
      "source": [
        "Write a Python program to print all even numbers SORTED from a given numbers list in the same order and stop the printing if any numbers that come after 237 in the sequence. Go to the editor\r\n",
        "Sample numbers list :\r\n",
        "\r\n",
        "numbers = [    \r\n",
        "    386, 462, 47, 418, 907, 344, 236, 375, 823, 566, 597, 978, 328, 615, 953, 345, \r\n",
        "    399, 162, 758, 219, 918, 237, 412, 566, 826, 248, 866, 950, 626, 949, 687, 217, \r\n",
        "    815, 67, 104, 58, 512, 24, 892, 894, 767, 553, 81, 379, 843, 831, 445, 742, 717, \r\n",
        "    958,743, 527\r\n",
        "    ]"
      ]
    },
    {
      "cell_type": "code",
      "metadata": {
        "id": "wX-OA3PXNrvH"
      },
      "source": [
        "numbers = [386, 462, 47, 418, 907, 344, 236, 375, 823, 566, 597, 978, 328, 615, 953, 345, \r\n",
        "    399, 162, 758, 219, 918, 237, 412, 566, 826, 248, 866, 950, 626, 949, 687, 217, \r\n",
        "    815, 67, 104, 58, 512, 24, 892, 894, 767, 553, 81, 379, 843, 831, 445, 742, 717, \r\n",
        "    958,743, 527]\r\n",
        "\r\n",
        "numbers.sort()\r\n",
        "\r\n",
        "for num in numbers:\r\n",
        "  if num == 237:\r\n",
        "    #print(num, end = \" \")\r\n",
        "    break\r\n",
        "  elif num % 2 == 0:\r\n",
        "    #result = num\r\n",
        "    print(num, end = \" \")"
      ],
      "execution_count": null,
      "outputs": []
    },
    {
      "cell_type": "code",
      "metadata": {
        "id": "t-X6TQ2XRbVW"
      },
      "source": [
        "movies = ['star wars', 'star track', 'lord of the rings', 'avengers']\r\n",
        "print(movies)\r\n"
      ],
      "execution_count": null,
      "outputs": []
    },
    {
      "cell_type": "code",
      "metadata": {
        "id": "pGCejEEERmn9"
      },
      "source": [
        "print(movies[1])"
      ],
      "execution_count": null,
      "outputs": []
    },
    {
      "cell_type": "code",
      "metadata": {
        "id": "ofO_tAC7SrP9"
      },
      "source": [
        "print(movies[0:3])"
      ],
      "execution_count": null,
      "outputs": []
    },
    {
      "cell_type": "code",
      "metadata": {
        "id": "3_-AamlfS5JO"
      },
      "source": [
        "print(movies[1].title())"
      ],
      "execution_count": null,
      "outputs": []
    },
    {
      "cell_type": "code",
      "metadata": {
        "id": "Rss9y4TxTcfe"
      },
      "source": [
        "movies = ['star wars', 'star track', 'lord of the rings', 'avengers']\r\n",
        "\r\n",
        "for i in movies:\r\n",
        "  print(i.title(), end = \", \")\r\n",
        "#print([i.title() for i in movies])"
      ],
      "execution_count": null,
      "outputs": []
    },
    {
      "cell_type": "code",
      "metadata": {
        "id": "KmTNjwfqWaSd"
      },
      "source": [
        "message = 'My favorite movie of all time is ' + movies[0]\r\n",
        "print(message)"
      ],
      "execution_count": null,
      "outputs": []
    },
    {
      "cell_type": "code",
      "metadata": {
        "id": "bPIButwXXHpk"
      },
      "source": [
        "movies[1] = 'Grown Ups 2'\r\n",
        "print(movies)"
      ],
      "execution_count": null,
      "outputs": []
    },
    {
      "cell_type": "code",
      "metadata": {
        "id": "BoVqVmASXdRm"
      },
      "source": [
        "movies.append('Harry Potter')\r\n",
        "print(movies)"
      ],
      "execution_count": null,
      "outputs": []
    },
    {
      "cell_type": "code",
      "metadata": {
        "id": "iVrZCNqKZzGW"
      },
      "source": [
        "print(movies)\r\n",
        "movies.sort()\r\n",
        "print(movies)\r\n",
        "movies.sort(reverse=True)\r\n",
        "print(movies)\r\n",
        "print(len(movies))\r\n",
        "print(movies)\r\n",
        "print(sorted(movies))\r\n",
        "print(movies)"
      ],
      "execution_count": null,
      "outputs": []
    },
    {
      "cell_type": "markdown",
      "metadata": {
        "id": "aB4sbkxsgrNd"
      },
      "source": [
        "# **Class 3 | January 6**"
      ]
    },
    {
      "cell_type": "markdown",
      "metadata": {
        "id": "e4odgf6ViLdl"
      },
      "source": [
        "Started with assignment"
      ]
    },
    {
      "cell_type": "markdown",
      "metadata": {
        "id": "1zO-XB4A5sAW"
      },
      "source": [
        "*Unit 4 Started*"
      ]
    },
    {
      "cell_type": "code",
      "metadata": {
        "colab": {
          "base_uri": "https://localhost:8080/"
        },
        "id": "Re_rrmrE5xam",
        "outputId": "88b67641-851a-44ba-8b6e-d8f82cba6381"
      },
      "source": [
        "name = 'cuny'\r\n",
        "for x in name:\r\n",
        "  print(x)"
      ],
      "execution_count": null,
      "outputs": [
        {
          "output_type": "stream",
          "text": [
            "cuny"
          ],
          "name": "stdout"
        }
      ]
    },
    {
      "cell_type": "code",
      "metadata": {
        "colab": {
          "base_uri": "https://localhost:8080/"
        },
        "id": "ZYXrPmK76APl",
        "outputId": "25f0f56d-1f7e-4f2a-f4d7-47b24c6a8548"
      },
      "source": [
        "tvshows = ['star trek', 'game of thrones', 'stranger things', 'breaking bad']\r\n",
        "for show in tvshows:\r\n",
        "  print(show)"
      ],
      "execution_count": null,
      "outputs": [
        {
          "output_type": "stream",
          "text": [
            "star trek\n",
            "game of thrones\n",
            "stranger things\n",
            "breaking bad\n"
          ],
          "name": "stdout"
        }
      ]
    },
    {
      "cell_type": "code",
      "metadata": {
        "colab": {
          "base_uri": "https://localhost:8080/"
        },
        "id": "fsFo_7QY6Lvu",
        "outputId": "6f208d28-5fcc-476a-a7a0-e4cfb0a5920d"
      },
      "source": [
        "tvshows = ['star trek', 'game of thrones', 'stranger things', 'breaking bad']\r\n",
        "for shows in tvshows:\r\n",
        "  print(show.title() + ' is one of my favorite TV Shows')"
      ],
      "execution_count": null,
      "outputs": [
        {
          "output_type": "stream",
          "text": [
            "Breaking Bad is one of my favorite TV Shows\n",
            "Breaking Bad is one of my favorite TV Shows\n",
            "Breaking Bad is one of my favorite TV Shows\n",
            "Breaking Bad is one of my favorite TV Shows\n"
          ],
          "name": "stdout"
        }
      ]
    },
    {
      "cell_type": "code",
      "metadata": {
        "colab": {
          "base_uri": "https://localhost:8080/"
        },
        "id": "XIHoIMpm6gOO",
        "outputId": "433488d2-511c-4e1a-f674-9dccdd46118f"
      },
      "source": [
        "tvshows = ['star trek', 'game of thrones', 'stranger things', 'breaking bad']\r\n",
        "for shows in tvshows:\r\n",
        "  print(show.title() + ' is one of my favorite TV Shows')\r\n",
        "print('\\nSo, I have ' + str(len(tvshows)) + ' favorite TV Shows.') "
      ],
      "execution_count": null,
      "outputs": [
        {
          "output_type": "stream",
          "text": [
            "Breaking Bad is one of my favorite TV Shows\n",
            "Breaking Bad is one of my favorite TV Shows\n",
            "Breaking Bad is one of my favorite TV Shows\n",
            "Breaking Bad is one of my favorite TV Shows\n",
            "\n",
            "So, I have 4 favorite TV Shows.\n"
          ],
          "name": "stdout"
        }
      ]
    },
    {
      "cell_type": "code",
      "metadata": {
        "colab": {
          "base_uri": "https://localhost:8080/"
        },
        "id": "dILkioT98YWW",
        "outputId": "c8fdb921-21f0-4140-b9b9-1c03f6925fda"
      },
      "source": [
        "for num in range(1,10):\r\n",
        "  print(num, sep=\"\")"
      ],
      "execution_count": null,
      "outputs": [
        {
          "output_type": "stream",
          "text": [
            "1\n",
            "2\n",
            "3\n",
            "4\n",
            "5\n",
            "6\n",
            "7\n",
            "8\n",
            "9\n"
          ],
          "name": "stdout"
        }
      ]
    },
    {
      "cell_type": "code",
      "metadata": {
        "colab": {
          "base_uri": "https://localhost:8080/"
        },
        "id": "dxfcGvgZ8udK",
        "outputId": "b653340c-21cb-46b9-9e7d-7991c0c51722"
      },
      "source": [
        "numbers = list(range(1,11))\r\n",
        "print(numbers)"
      ],
      "execution_count": null,
      "outputs": [
        {
          "output_type": "stream",
          "text": [
            "[1, 2, 3, 4, 5, 6, 7, 8, 9, 10]\n"
          ],
          "name": "stdout"
        }
      ]
    },
    {
      "cell_type": "code",
      "metadata": {
        "colab": {
          "base_uri": "https://localhost:8080/"
        },
        "id": "y0HAfOeo8yg3",
        "outputId": "9fb6e33e-43cc-4b9d-eeff-5752488e8122"
      },
      "source": [
        "numbers = list(range(0,11,2))\r\n",
        "print(numbers)"
      ],
      "execution_count": null,
      "outputs": [
        {
          "output_type": "stream",
          "text": [
            "[0, 2, 4, 6, 8, 10]\n"
          ],
          "name": "stdout"
        }
      ]
    },
    {
      "cell_type": "code",
      "metadata": {
        "colab": {
          "base_uri": "https://localhost:8080/"
        },
        "id": "QArH62kU9D5T",
        "outputId": "aa24d65c-4c77-4bff-c64b-d03ec39fe984"
      },
      "source": [
        "numbers = list(range(0,11,2))\r\n",
        "print('The minimum number is ' + str(min(numbers)))"
      ],
      "execution_count": null,
      "outputs": [
        {
          "output_type": "stream",
          "text": [
            "The minimum number is 0\n"
          ],
          "name": "stdout"
        }
      ]
    },
    {
      "cell_type": "code",
      "metadata": {
        "colab": {
          "base_uri": "https://localhost:8080/"
        },
        "id": "UctfFAJW9jD7",
        "outputId": "c74d18b1-5637-4289-f43c-c33c9a02b367"
      },
      "source": [
        "import statistics\r\n",
        "import math \r\n",
        "numbers = list(range(1,11))\r\n",
        "print('The minimum number is ' + str(min(numbers)))\r\n",
        "print('The maximum number is ' + str(max(numbers)))\r\n",
        "print('The sum is ' + str(sum(numbers)))\r\n",
        "print('The mean is ' + str(statistics.mean(numbers)))\r\n",
        "print('The average is ' + str(sum(numbers)/len(numbers)))"
      ],
      "execution_count": null,
      "outputs": [
        {
          "output_type": "stream",
          "text": [
            "The minimum number is 1\n",
            "The maximum number is 10\n",
            "The sum is 55\n",
            "The mean is 5.5\n",
            "The average is 5.5\n"
          ],
          "name": "stdout"
        }
      ]
    },
    {
      "cell_type": "code",
      "metadata": {
        "colab": {
          "base_uri": "https://localhost:8080/"
        },
        "id": "gYAHW95J-5iO",
        "outputId": "ae984c06-8b17-404b-c446-0ef74f048f45"
      },
      "source": [
        "tvshows = ['star trek', 'game of thrones', 'stranger things', 'breaking bad', 'big bang theory', 'blac mirror']\r\n",
        "print(tvshows[0:3])\r\n",
        "print(tvshows[2:5])"
      ],
      "execution_count": null,
      "outputs": [
        {
          "output_type": "stream",
          "text": [
            "['star trek', 'game of thrones', 'stranger things']\n",
            "['stranger things', 'breaking bad', 'big bang theory']\n"
          ],
          "name": "stdout"
        }
      ]
    },
    {
      "cell_type": "code",
      "metadata": {
        "colab": {
          "base_uri": "https://localhost:8080/"
        },
        "id": "PuitcRoS_Urf",
        "outputId": "0dcb95f3-3865-4b4e-e14a-f5f7404e6b00"
      },
      "source": [
        "for show in tvshows[2:]:\r\n",
        "  print(show.title() + ' is one of my favorite')\r\n"
      ],
      "execution_count": null,
      "outputs": [
        {
          "output_type": "stream",
          "text": [
            "Stranger Things is one of my favorite\n",
            "Breaking Bad is one of my favorite\n",
            "Big Bang Theory is one of my favorite\n",
            "Blac Mirror is one of my favorite\n"
          ],
          "name": "stdout"
        }
      ]
    },
    {
      "cell_type": "markdown",
      "metadata": {
        "id": "7dbNMTXubBtp"
      },
      "source": [
        "**1)\tWrite a Python program to construct the following pattern, using a nested for loop.**"
      ]
    },
    {
      "cell_type": "code",
      "metadata": {
        "colab": {
          "base_uri": "https://localhost:8080/"
        },
        "id": "HCH5OI84IRxY",
        "outputId": "523aecef-f308-47ce-93d1-68dee78fa682"
      },
      "source": [
        "count = 5\r\n",
        "for i in range(count):\r\n",
        "  for j in range(i):\r\n",
        "    print(\"* \", end = \"\")\r\n",
        "  print(\"\")\r\n",
        "for i in range(count,0,-1):\r\n",
        "  for j in range(i):\r\n",
        "    print(\"* \", end = \"\")\r\n",
        "  print(\"\")"
      ],
      "execution_count": null,
      "outputs": [
        {
          "output_type": "stream",
          "text": [
            "\n",
            "* \n",
            "* * \n",
            "* * * \n",
            "* * * * \n",
            "* * * * * \n",
            "* * * * \n",
            "* * * \n",
            "* * \n",
            "* \n"
          ],
          "name": "stdout"
        }
      ]
    },
    {
      "cell_type": "markdown",
      "metadata": {
        "id": "_g97vj3pbHib"
      },
      "source": [
        "**2)\tWrite a Python program that accepts a word from the user and reverse it. Hint: use range() function**"
      ]
    },
    {
      "cell_type": "code",
      "metadata": {
        "colab": {
          "base_uri": "https://localhost:8080/"
        },
        "id": "hwfycBgDJH_-",
        "outputId": "e5c4722d-064f-4c68-ce1c-71ec32372c84"
      },
      "source": [
        "word = input(\"Enter a word to reverse: \")\r\n",
        "\r\n",
        "#using variables can be called sub-documenting\r\n",
        "start = len(word)-1\r\n",
        "stop = -1\r\n",
        "step = -1\r\n",
        "for char in range(start, stop, step): # range(start, stop, step)\r\n",
        "  print(word[char], end = \"\")"
      ],
      "execution_count": null,
      "outputs": [
        {
          "output_type": "stream",
          "text": [
            "Enter a word to reverse: Python\n",
            "nohtyP"
          ],
          "name": "stdout"
        }
      ]
    },
    {
      "cell_type": "markdown",
      "metadata": {
        "id": "vuutOiJMbNNR"
      },
      "source": [
        "**3) Write a Python program that prints all the numbers from 0 to 6 except 3 and 6.**\r\n",
        "\r\n",
        "**Note : Use 'continue' statement.**\r\n",
        "\r\n",
        "**Expected Output : 0 1 2 4 5**"
      ]
    },
    {
      "cell_type": "code",
      "metadata": {
        "colab": {
          "base_uri": "https://localhost:8080/"
        },
        "id": "br5qks0kAfnc",
        "outputId": "c82cab66-2d4f-4fae-fab9-1dc2f0f0cb75"
      },
      "source": [
        "numbers = range(6)\r\n",
        "for num in numbers:\r\n",
        "  if(num == 3 or num == 6):\r\n",
        "    continue\r\n",
        "  print(num, end=\" \")\r\n",
        "\r\n",
        "# a different version\r\n",
        " #if(num != 3 and num != 6):\r\n",
        "    #print(num, end=\" \")\r\n"
      ],
      "execution_count": null,
      "outputs": [
        {
          "output_type": "stream",
          "text": [
            "0 1 2 4 5 "
          ],
          "name": "stdout"
        }
      ]
    },
    {
      "cell_type": "markdown",
      "metadata": {
        "id": "5Nmx-ZXXbPuJ"
      },
      "source": [
        "**4)\tWrite a Python program to calculate a dog's age in dog's years.**\r\n",
        "\r\n",
        "**Note: For the first two years, a dog year is equal to 10.5 human years. After that, each dog year equals 4 human years.**\r\n",
        "\r\n",
        "**Expected Output:**\r\n",
        "\r\n",
        "**Input a dog's age in human years: 15**                                    \r\n",
        "\r\n",
        "**The dog's age in dog's years is 73**"
      ]
    },
    {
      "cell_type": "code",
      "metadata": {
        "colab": {
          "base_uri": "https://localhost:8080/"
        },
        "id": "utCmsdM3FULV",
        "outputId": "93ccdbca-2d0f-407f-d931-82847af2598c"
      },
      "source": [
        "human_age = float(input(\"Input a dog'g age in human years: \"))\r\n",
        "if (human_age <= 2):\r\n",
        "  dog_age = human_age * 10.5\r\n",
        "else:\r\n",
        "  dog_age =  21 + (human_age - 2)*4\r\n",
        "\r\n",
        "print(\"The dog's age in dog's years is: \" + str(dog_age))"
      ],
      "execution_count": null,
      "outputs": [
        {
          "output_type": "stream",
          "text": [
            "Input a dog'g age in human years: 2\n",
            "The dog's age in dog's years is: 21.0\n"
          ],
          "name": "stdout"
        }
      ]
    },
    {
      "cell_type": "markdown",
      "metadata": {
        "id": "opoPSu1gbZ34"
      },
      "source": [
        "**More Practice / Unit 5**"
      ]
    },
    {
      "cell_type": "code",
      "metadata": {
        "colab": {
          "base_uri": "https://localhost:8080/"
        },
        "id": "WxNEgs5KbcWu",
        "outputId": "6e716121-0216-4877-82de-f72c0acaa254"
      },
      "source": [
        "motorcycles = ['ducati', 'bmw', 'yamaha', 'honda', 'kawasaki']\r\n",
        "for bike in motorcycles:\r\n",
        "  if bike == 'ducati':\r\n",
        "    print(bike.upper())\r\n",
        "  else:\r\n",
        "    print(bike.title())"
      ],
      "execution_count": null,
      "outputs": [
        {
          "output_type": "stream",
          "text": [
            "DUCATI\n",
            "Bmw\n",
            "Yamaha\n",
            "Honda\n",
            "Kawasaki\n"
          ],
          "name": "stdout"
        }
      ]
    },
    {
      "cell_type": "code",
      "metadata": {
        "colab": {
          "base_uri": "https://localhost:8080/"
        },
        "id": "dKIkqtv0b7By",
        "outputId": "ca6983c4-9287-4cfa-b9cc-335a494a9dd0"
      },
      "source": [
        "motorcycles = ['ducati', 'bmw', 'yamaha', 'honda', 'kawasaki']\r\n",
        "for bike in motorcycles:\r\n",
        "  if bike == 'ducati':\r\n",
        "    print(bike.upper())\r\n",
        "  elif bike == 'yamaha':\r\n",
        "    print(bike.lower())\r\n",
        "  else:\r\n",
        "    print(bike.title())"
      ],
      "execution_count": null,
      "outputs": [
        {
          "output_type": "stream",
          "text": [
            "DUCATI\n",
            "Bmw\n",
            "yamaha\n",
            "Honda\n",
            "Kawasaki\n"
          ],
          "name": "stdout"
        }
      ]
    },
    {
      "cell_type": "code",
      "metadata": {
        "colab": {
          "base_uri": "https://localhost:8080/"
        },
        "id": "hu3KySDZcfPn",
        "outputId": "a7ea9a9e-7bac-4c58-e09b-20db1964fb8e"
      },
      "source": [
        "bike_inventory = 12\r\n",
        "if bike_inventory < 15:\r\n",
        "  print(\"Time to order more bikes.\")\r\n",
        "else:\r\n",
        "  print(\"We have enough bikes.\")"
      ],
      "execution_count": null,
      "outputs": [
        {
          "output_type": "stream",
          "text": [
            "Time to order more bikes.\n"
          ],
          "name": "stdout"
        }
      ]
    },
    {
      "cell_type": "code",
      "metadata": {
        "colab": {
          "base_uri": "https://localhost:8080/"
        },
        "id": "a9tWvxsVczmg",
        "outputId": "e98e7447-096a-4de1-864d-5294763f5f56"
      },
      "source": [
        "motorcycles = ['ducati', 'bmw', 'yamaha', 'honda', 'kawasaki']\r\n",
        "if 'bmw' in motorcycles:\r\n",
        "  print('The company sells BMW bikes.')\r\n",
        "else:\r\n",
        "  print(\"Shop elsewhere!\")"
      ],
      "execution_count": null,
      "outputs": [
        {
          "output_type": "stream",
          "text": [
            "The company sells BMW bikes.\n"
          ],
          "name": "stdout"
        }
      ]
    },
    {
      "cell_type": "code",
      "metadata": {
        "colab": {
          "base_uri": "https://localhost:8080/"
        },
        "id": "Cgat1680dGnD",
        "outputId": "e433b414-9386-4968-e8dd-84e6146ee384"
      },
      "source": [
        "motorcycles = ['ducati', 'bmw', 'yamaha', 'honda', 'kawasaki']\r\n",
        "if 'suzuki' not in motorcycles:\r\n",
        "  print('Shop elsewhere!')\r\n",
        "else:\r\n",
        "  print(\"The company sells Suzuki bikes.\")"
      ],
      "execution_count": null,
      "outputs": [
        {
          "output_type": "stream",
          "text": [
            "Shop elsewhere!\n"
          ],
          "name": "stdout"
        }
      ]
    },
    {
      "cell_type": "code",
      "metadata": {
        "colab": {
          "base_uri": "https://localhost:8080/"
        },
        "id": "79wzSym2deAf",
        "outputId": "7024e37e-afc3-44db-b444-779eef09f8d0"
      },
      "source": [
        "# admission prices are as follows:\r\n",
        "# age < 5, FREE\r\n",
        "# age >= 5, and < 15, $10\r\n",
        "# age >= 15, and < 21, $15\r\n",
        "# rest are $20\r\n",
        "\r\n",
        "#input age\r\n",
        "#input quantitiy\r\n",
        "#print total cost of tickets\r\n",
        "\r\n",
        "age = int(input(\"Enter the student's age: \"))\r\n",
        "quantity = int(input(\"How many Tickets do you need? \"))\r\n",
        "\r\n",
        "\r\n",
        "if(age < 5):\r\n",
        "  print(\"\\nThe child can enter for FREE.\\n\")\r\n",
        "elif(age >= 5 and age < 15):\r\n",
        "  print(\"\\nThe ticket cost is : $\" + str(10 * quantity))\r\n",
        "elif(age >= 15 and age < 21):\r\n",
        "  print(\"\\nThe ticket cost is : $\" + str(15 * quantity))\r\n",
        "else:\r\n",
        "  print(\"\\nThe ticket cost is : $\" + str(20 * quantity))"
      ],
      "execution_count": null,
      "outputs": [
        {
          "output_type": "stream",
          "text": [
            "Enter the student's age: 10\n",
            "How many Tickets do you need? 10\n",
            "\n",
            "The ticket cost is : $100\n"
          ],
          "name": "stdout"
        }
      ]
    }
  ]
}