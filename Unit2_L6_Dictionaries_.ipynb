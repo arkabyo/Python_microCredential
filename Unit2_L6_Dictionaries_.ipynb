{
  "nbformat": 4,
  "nbformat_minor": 0,
  "metadata": {
    "colab": {
      "name": "Unit2_L6_Dictionaries .ipynb",
      "provenance": [],
      "authorship_tag": "ABX9TyMD5Vp+mjVTzWBZQZPQILO9",
      "include_colab_link": true
    },
    "kernelspec": {
      "name": "python3",
      "display_name": "Python 3"
    }
  },
  "cells": [
    {
      "cell_type": "markdown",
      "metadata": {
        "id": "view-in-github",
        "colab_type": "text"
      },
      "source": [
        "<a href=\"https://colab.research.google.com/github/arkabyo/microCred/blob/main/Unit2_L6_Dictionaries_.ipynb\" target=\"_parent\"><img src=\"https://colab.research.google.com/assets/colab-badge.svg\" alt=\"Open In Colab\"/></a>"
      ]
    },
    {
      "cell_type": "markdown",
      "metadata": {
        "id": "kxqD9CtSfAW2"
      },
      "source": [
        "#1. Create a simple dictionary that stores 2 variables, for example: first and last name.\r\n"
      ]
    },
    {
      "cell_type": "code",
      "metadata": {
        "id": "KAk1-ol2fFOG"
      },
      "source": [
        "sampleDict = {\"first_name\": \"Tom\", \"last_name\": \"Smith\"}"
      ],
      "execution_count": 1,
      "outputs": []
    },
    {
      "cell_type": "markdown",
      "metadata": {
        "id": "TBQMA8e8fXSn"
      },
      "source": [
        "#2. Print out those variables stored in your previous dictionary."
      ]
    },
    {
      "cell_type": "code",
      "metadata": {
        "colab": {
          "base_uri": "https://localhost:8080/"
        },
        "id": "LxZcd6GkfbxF",
        "outputId": "80a0d4d6-c286-4049-b3a1-20d14aebd39e"
      },
      "source": [
        "for k in sampleDict.keys():\r\n",
        "  print(k)"
      ],
      "execution_count": 19,
      "outputs": [
        {
          "output_type": "stream",
          "text": [
            "first_name\n",
            "last_name\n"
          ],
          "name": "stdout"
        }
      ]
    },
    {
      "cell_type": "markdown",
      "metadata": {
        "id": "AUOKiHZNfmsW"
      },
      "source": [
        "#3. Add a message to those variables on printing: for example: “Hello, firstname lastname!”\r\n"
      ]
    },
    {
      "cell_type": "code",
      "metadata": {
        "colab": {
          "base_uri": "https://localhost:8080/"
        },
        "id": "3qJyQyglfqum",
        "outputId": "23f1bbc0-14a4-4744-e40b-ba738571eb07"
      },
      "source": [
        "print(\"Hello, \" + sampleDict['first_name'] + \" \" + sampleDict['last_name'])"
      ],
      "execution_count": 13,
      "outputs": [
        {
          "output_type": "stream",
          "text": [
            "Hello, Tom Smith\n"
          ],
          "name": "stdout"
        }
      ]
    },
    {
      "cell_type": "markdown",
      "metadata": {
        "id": "lNGrfyGchUfN"
      },
      "source": [
        "#4. Create a dictionary that holds 2 key: value pairs:\r\n",
        "  \r\n",
        "  Look through your dictionary and print each pair,\r\n"
      ]
    },
    {
      "cell_type": "code",
      "metadata": {
        "colab": {
          "base_uri": "https://localhost:8080/"
        },
        "id": "9mH2zbMphY0u",
        "outputId": "bf3b97a9-cf46-4be5-b7fd-8ca5d07e20d4"
      },
      "source": [
        "for k, v in sampleDict.items():\r\n",
        "  print(k + \"\\t: \" + v)"
      ],
      "execution_count": 20,
      "outputs": [
        {
          "output_type": "stream",
          "text": [
            "first_name\t: Tom\n",
            "last_name\t: Smith\n"
          ],
          "name": "stdout"
        }
      ]
    },
    {
      "cell_type": "markdown",
      "metadata": {
        "id": "1nY-dxHehyGn"
      },
      "source": [
        "#5. Create a nested dictionary containing three dictionaries – these dictionaries could be anything (favorite pets, travel locations, etc.)\r\n",
        "\r\n",
        "Loop through the dictionaries and print a message for each.\r\n"
      ]
    },
    {
      "cell_type": "code",
      "metadata": {
        "colab": {
          "base_uri": "https://localhost:8080/"
        },
        "id": "uFtma7tOiImd",
        "outputId": "117a78c7-8108-4b7c-a77d-14d678b5dc52"
      },
      "source": [
        "people = {'person1': {'name': 'John', 'age': '27', 'sex': 'Male'},\r\n",
        "          'person2': {'name': 'Marie', 'age': '22', 'sex': 'Female'},\r\n",
        "          'person3': {'name': 'Ryan', 'age': '99', 'sex': 'Alien'}\r\n",
        "          }\r\n",
        "print(people['person1']['name'] + ' is a ' +people['person1']['sex'])\r\n",
        "print(people['person2']['name'] + ' is a ' +people['person2']['sex'])\r\n",
        "print(people['person3']['name'] + ' is a ' +people['person3']['sex'])"
      ],
      "execution_count": 33,
      "outputs": [
        {
          "output_type": "stream",
          "text": [
            "John is a Male\n",
            "Marie is a Female\n",
            "Ryan is a Alien\n"
          ],
          "name": "stdout"
        }
      ]
    }
  ]
}