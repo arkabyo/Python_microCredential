{
  "nbformat": 4,
  "nbformat_minor": 0,
  "metadata": {
    "colab": {
      "name": "If-Else Statements Assignment.ipynb",
      "provenance": [],
      "authorship_tag": "ABX9TyMvdBZ7AMhYXlTq8z0eVxNW",
      "include_colab_link": true
    },
    "kernelspec": {
      "name": "python3",
      "display_name": "Python 3"
    }
  },
  "cells": [
    {
      "cell_type": "markdown",
      "metadata": {
        "id": "view-in-github",
        "colab_type": "text"
      },
      "source": [
        "<a href=\"https://colab.research.google.com/github/arkabyo/microCred/blob/main/If_Else_Statements_Assignment.ipynb\" target=\"_parent\"><img src=\"https://colab.research.google.com/assets/colab-badge.svg\" alt=\"Open In Colab\"/></a>"
      ]
    },
    {
      "cell_type": "markdown",
      "metadata": {
        "id": "--sQN7R4k2s_"
      },
      "source": [
        "#Make a list of 5 or more usernames, including an admin account.  Imagine you are writing code that will welcome people to your application on login. Loop through the list and print your greeting.\r\n",
        "\r\n",
        "a. If the admin account logs in, give them a special greeting.  They’re the admin, after all!\r\n",
        "\r\n",
        "b. Other users can get the generic greeting\r\n"
      ]
    },
    {
      "cell_type": "code",
      "metadata": {
        "colab": {
          "base_uri": "https://localhost:8080/"
        },
        "id": "WaUarMdik_jj",
        "outputId": "2ea40206-261e-41fb-b5e6-d5e02e722ada"
      },
      "source": [
        "usernames = ['admin', 'roy', 'avi', 'john', 'tom']\r\n",
        "\r\n",
        "for user in usernames:\r\n",
        "  if user == 'admin':\r\n",
        "    print(\"Hey Admin! Welcome to a new day!\\n\")\r\n",
        "  else:\r\n",
        "    print(\"Hey \" + user + \", you are successfully loggedin!\")"
      ],
      "execution_count": 15,
      "outputs": [
        {
          "output_type": "stream",
          "text": [
            "Hey Admin! Welcome to a new day!\n",
            "\n",
            "Hey roy, you are successfully loggedin!\n",
            "Hey avi, you are successfully loggedin!\n",
            "Hey john, you are successfully loggedin!\n",
            "Hey tom, you are successfully loggedin!\n"
          ],
          "name": "stdout"
        }
      ]
    },
    {
      "cell_type": "code",
      "metadata": {
        "colab": {
          "base_uri": "https://localhost:8080/"
        },
        "id": "nRemidYMquo5",
        "outputId": "ec823578-0ac7-408e-e56e-c6d95ad00c72"
      },
      "source": [
        "user = {\r\n",
        "        'Alien' : 'admin',\r\n",
        "        'Roy'   : 'user',\r\n",
        "        'Tom'   : 'user',\r\n",
        "        'Jon'   : 'user',\r\n",
        "        'Ron'   : 'user'\r\n",
        "}\r\n",
        "\r\n",
        "for k, v in user.items():\r\n",
        "  if v == 'admin':\r\n",
        "    print(\"Hey Admin \" + k + \"! Welcome to a new day!\\n\")\r\n",
        "  else:\r\n",
        "    print(\"Hey \" + k + \", you are successfully logged in!\")"
      ],
      "execution_count": 17,
      "outputs": [
        {
          "output_type": "stream",
          "text": [
            "Hey Admin Alien! Welcome to a new day!\n",
            "\n",
            "Hey Roy, you are successfully logged in!\n",
            "Hey Tom, you are successfully logged in!\n",
            "Hey Jon, you are successfully logged in!\n",
            "Hey Ron, you are successfully logged in!\n"
          ],
          "name": "stdout"
        }
      ]
    },
    {
      "cell_type": "markdown",
      "metadata": {
        "id": "8fMMzS4InIZa"
      },
      "source": [
        "# Store numbers 1-10 in a list\r\n",
        "# Loop through the list\r\n",
        "# Use an if-elif-else chain inside your loop to print the ordinal ending for each number – for example – 1st, 2nd, 3rd … etc.\r\n"
      ]
    },
    {
      "cell_type": "code",
      "metadata": {
        "colab": {
          "base_uri": "https://localhost:8080/"
        },
        "id": "dmmGwgwxnN3E",
        "outputId": "f90048a5-d17b-44d0-ca5a-b702490ecc3f"
      },
      "source": [
        "numbers = [1,2,3,4,5,6,7,8,9,10]\r\n",
        "for num in numbers:\r\n",
        "  if (num == 1):\r\n",
        "    print(str(num) + \"st\", end=\"\")\r\n",
        "  elif (num == 2):\r\n",
        "    print(\", \"+ str(num) + \"nd\", end=\"\")\r\n",
        "  elif (num == 3):\r\n",
        "    print(\", \"+ str(num) + \"rd\", end=\"\")\r\n",
        "  else:\r\n",
        "    print(\", \"+ str(num) + \"th\", end=\"\")"
      ],
      "execution_count": 8,
      "outputs": [
        {
          "output_type": "stream",
          "text": [
            "1st, 2nd, 3rd, 4th, 5th, 6th, 7th, 8th, 9th, 10th"
          ],
          "name": "stdout"
        }
      ]
    },
    {
      "cell_type": "code",
      "metadata": {
        "colab": {
          "base_uri": "https://localhost:8080/"
        },
        "id": "afLKxGrOpE7G",
        "outputId": "10489c20-845c-4b53-b816-9eb196feed72"
      },
      "source": [
        "user = {\r\n",
        "        'Alien' : 'admin',\r\n",
        "        'Roy'   : 'user',\r\n",
        "        'Tom'   : 'user',\r\n",
        "        'Jon'   : 'user',\r\n",
        "        'Ron'   : 'user'\r\n",
        "}\r\n",
        "\r\n",
        "for k, v in user.items():\r\n",
        "  if v == 'admin':\r\n",
        "    print(\"Hey Admin \" + k + \"! Welcome to a new day!\\n\")\r\n",
        "  else:\r\n",
        "    print(\"Hey \" + k + \", you are successfully logged in!\")"
      ],
      "execution_count": 14,
      "outputs": [
        {
          "output_type": "stream",
          "text": [
            "Hey Admin Alien! Welcome to a new day!\n",
            "\n",
            "Hey Roy, you are successfully logged in!\n",
            "Hey Tom, you are successfully logged in!\n",
            "Hey Jon, you are successfully logged in!\n",
            "Hey Ron, you are successfully logged in!\n"
          ],
          "name": "stdout"
        }
      ]
    }
  ]
}