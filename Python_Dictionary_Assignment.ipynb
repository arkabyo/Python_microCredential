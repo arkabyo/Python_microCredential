{
  "nbformat": 4,
  "nbformat_minor": 0,
  "metadata": {
    "colab": {
      "name": "Python Dictionary Assignment.ipynb",
      "provenance": [],
      "collapsed_sections": [],
      "authorship_tag": "ABX9TyP3LcKxiLDqtV2kGKYrlJsQ",
      "include_colab_link": true
    },
    "kernelspec": {
      "name": "python3",
      "display_name": "Python 3"
    }
  },
  "cells": [
    {
      "cell_type": "markdown",
      "metadata": {
        "id": "view-in-github",
        "colab_type": "text"
      },
      "source": [
        "<a href=\"https://colab.research.google.com/github/arkabyo/microCred/blob/main/Python_Dictionary_Assignment.ipynb\" target=\"_parent\"><img src=\"https://colab.research.google.com/assets/colab-badge.svg\" alt=\"Open In Colab\"/></a>"
      ]
    },
    {
      "cell_type": "markdown",
      "metadata": {
        "id": "moO0bJUPGbeh"
      },
      "source": [
        "#1: Below are the two lists convert it into the dictionary\r\n",
        "keys = ['Ten', 'Twenty', 'Thirty']\r\n",
        "\r\n",
        "values = [10, 20, 30]\r\n"
      ]
    },
    {
      "cell_type": "code",
      "metadata": {
        "colab": {
          "base_uri": "https://localhost:8080/"
        },
        "id": "Xsk63iHtGhf8",
        "outputId": "b9ec2e52-bd27-40f3-afd0-a2b0feb7d362"
      },
      "source": [
        "keys = ['Ten', 'Twenty', 'Thirty']\r\n",
        "values = [10, 20, 30]\r\n",
        "\r\n",
        "dictionary = dict(zip(keys, values))\r\n",
        "\r\n",
        "print(dictionary)"
      ],
      "execution_count": 25,
      "outputs": [
        {
          "output_type": "stream",
          "text": [
            "{'Ten': 10, 'Twenty': 20, 'Thirty': 30}\n"
          ],
          "name": "stdout"
        }
      ]
    },
    {
      "cell_type": "markdown",
      "metadata": {
        "id": "dG-10xyQHNrM"
      },
      "source": [
        "#2: Merge following two Python dictionaries into one\r\n",
        "\r\n",
        "dict1 = {'Ten': 10, 'Twenty': 20, 'Thirty': 30}\r\n",
        "\r\n",
        "dict2 = {'Thirty': 30, 'Fourty': 40, 'Fifty': 50}\r\n"
      ]
    },
    {
      "cell_type": "code",
      "metadata": {
        "colab": {
          "base_uri": "https://localhost:8080/"
        },
        "id": "tTGCKf32HQuE",
        "outputId": "75499ec5-c8f5-4796-c722-79cc46f0534c"
      },
      "source": [
        "dict1 = {'Ten': 10, 'Twenty': 20, 'Thirty': 30}\r\n",
        "dict2 = {'Thirty': 30, 'Fourty': 40, 'Fifty': 50}\r\n",
        "\r\n",
        "dict_merged = {k: v for d in [dict1, dict2] for k, v in d.items()}\r\n",
        "\r\n",
        "print(dict_merged)"
      ],
      "execution_count": 11,
      "outputs": [
        {
          "output_type": "stream",
          "text": [
            "{'Ten': 10, 'Twenty': 20, 'Thirty': 30, 'Fourty': 40, 'Fifty': 50}\n"
          ],
          "name": "stdout"
        }
      ]
    },
    {
      "cell_type": "markdown",
      "metadata": {
        "id": "YdKZ7h5rKFp2"
      },
      "source": [
        "#3: Access the value of key ‘history’\r\n",
        "sampleDict = { \r\n",
        "\r\n",
        "\r\n",
        "\r\n",
        "```\r\n",
        "   \"class\":{ \r\n",
        "      \"student\":{ \r\n",
        "         \"name\":\"Mike\",\r\n",
        "         \"marks\":{ \r\n",
        "            \"physics\":70,\r\n",
        "            \"history\":80\r\n",
        "         }\r\n",
        "      }\r\n",
        "   }\r\n",
        "}\r\n",
        "\r\n",
        "```\r\n",
        "\r\n",
        "\r\n"
      ]
    },
    {
      "cell_type": "code",
      "metadata": {
        "colab": {
          "base_uri": "https://localhost:8080/"
        },
        "id": "bsQ4KXFoKY28",
        "outputId": "a32e429c-c60f-485f-93f4-c33e949cbbdb"
      },
      "source": [
        "sampleDict = {\r\n",
        "    \"class\":{\r\n",
        "        \"student\":{\r\n",
        "            \"name\"  : \"Mike\",\r\n",
        "            \"marks\" : {\r\n",
        "                \"physics\" : 70,\r\n",
        "                \"history\" : 80\r\n",
        "            }\r\n",
        "        }\r\n",
        "    }\r\n",
        "}\r\n",
        "\r\n",
        "print(sampleDict['class']['student']['marks']['history'])\r\n"
      ],
      "execution_count": 22,
      "outputs": [
        {
          "output_type": "stream",
          "text": [
            "80\n"
          ],
          "name": "stdout"
        }
      ]
    },
    {
      "cell_type": "markdown",
      "metadata": {
        "id": "ZxGRklTnNeoW"
      },
      "source": [
        "#4: Initialize dictionary with default values Given:\r\n",
        "```\r\n",
        "employees = ['Kelly', 'Emma', 'John']\r\n",
        "defaults = {\"designation\": 'Application Developer', \"salary\": 8000}\r\n",
        "```"
      ]
    },
    {
      "cell_type": "code",
      "metadata": {
        "colab": {
          "base_uri": "https://localhost:8080/"
        },
        "id": "-Gp4A3OuNma8",
        "outputId": "ab210225-b2b3-495a-af62-a57046b4aaee"
      },
      "source": [
        "employees = ['Kelly', 'Emma', 'John']\r\n",
        "defaults = {\"designation\": 'Application Developer', \"salary\": 8000}\r\n",
        "\r\n",
        "resDict = dict.fromkeys(employees, defaults)\r\n",
        "print(resDict)\r\n"
      ],
      "execution_count": 24,
      "outputs": [
        {
          "output_type": "stream",
          "text": [
            "{'Kelly': {'designation': 'Application Developer', 'salary': 8000}, 'Emma': {'designation': 'Application Developer', 'salary': 8000}, 'John': {'designation': 'Application Developer', 'salary': 8000}}\n"
          ],
          "name": "stdout"
        }
      ]
    },
    {
      "cell_type": "markdown",
      "metadata": {
        "id": "p-3AuGCYOL8s"
      },
      "source": [
        "#5: Create a new dictionary by extracting the following keys from a given dictionary\r\n"
      ]
    },
    {
      "cell_type": "code",
      "metadata": {
        "colab": {
          "base_uri": "https://localhost:8080/"
        },
        "id": "aGGaDEUQOQ-D",
        "outputId": "1a502ab1-6630-4aa7-f617-d2a2361ecd92"
      },
      "source": [
        "sampleDict = {\r\n",
        "              \"name\"    : \"Kelly\",\r\n",
        "              \"age\"     : 25,\r\n",
        "              \"salary\"  : 8000,\r\n",
        "              \"city\"    : \"New york\"\r\n",
        "            }\r\n",
        "\r\n",
        "keys = [\"name\", \"salary\"]\r\n",
        "\r\n",
        "newDictionary = {k: sampleDict[k] for k in keys}\r\n",
        "\r\n",
        "print(newDictionary)"
      ],
      "execution_count": 26,
      "outputs": [
        {
          "output_type": "stream",
          "text": [
            "{'name': 'Kelly', 'salary': 8000}\n"
          ],
          "name": "stdout"
        }
      ]
    },
    {
      "cell_type": "markdown",
      "metadata": {
        "id": "HRHkqeIJQYYb"
      },
      "source": [
        "#6: Delete set of keys from Python Dictionary Given:\r\n",
        "Output: {'city': 'New york', 'age': 25}"
      ]
    },
    {
      "cell_type": "code",
      "metadata": {
        "colab": {
          "base_uri": "https://localhost:8080/"
        },
        "id": "kp1UNvl6QbhO",
        "outputId": "f696b1ba-d912-4383-d549-e3e48444b022"
      },
      "source": [
        "sampleDict = {\r\n",
        "              \"name\"    : \"Kelly\",\r\n",
        "              \"age\"     : 25,\r\n",
        "              \"salary\"  : 8000,\r\n",
        "              \"city\"    : \"New york\"\r\n",
        "            }\r\n",
        "\r\n",
        "keys = [\"name\", \"salary\"]\r\n",
        "\r\n",
        "newDictionary = {k: sampleDict[k] for k in sampleDict.keys() - keys}\r\n",
        "\r\n",
        "print(newDictionary)"
      ],
      "execution_count": 28,
      "outputs": [
        {
          "output_type": "stream",
          "text": [
            "{'city': 'New york', 'age': 25}\n"
          ],
          "name": "stdout"
        }
      ]
    },
    {
      "cell_type": "markdown",
      "metadata": {
        "id": "64JDRGxxRD3l"
      },
      "source": [
        "# 7: Check if a value 200 exists in a dictionary\r\n",
        "Output: True"
      ]
    },
    {
      "cell_type": "code",
      "metadata": {
        "colab": {
          "base_uri": "https://localhost:8080/"
        },
        "id": "SQPorM5iRIVu",
        "outputId": "2ecf2852-1463-47c2-8330-c0ffaaf5820a"
      },
      "source": [
        "sampleDict = {'a': 100, 'b': 200, 'c': 300}\r\n",
        "\r\n",
        "print(200 in sampleDict.values())"
      ],
      "execution_count": 29,
      "outputs": [
        {
          "output_type": "stream",
          "text": [
            "True\n"
          ],
          "name": "stdout"
        }
      ]
    },
    {
      "cell_type": "markdown",
      "metadata": {
        "id": "PtED_6F5RWnd"
      },
      "source": [
        "#8: Rename key city to location in the following dictionary\r\n"
      ]
    },
    {
      "cell_type": "code",
      "metadata": {
        "colab": {
          "base_uri": "https://localhost:8080/"
        },
        "id": "2VKCLf8sRXru",
        "outputId": "e546aeb6-036c-4d31-b4bf-76bedac3e4d3"
      },
      "source": [
        "sampleDict = {\r\n",
        "              \"name\"    : \"Kelly\",\r\n",
        "              \"age\"     : 25,\r\n",
        "              \"salary\"  : 8000,\r\n",
        "              \"city\"    : \"New york\"\r\n",
        "            }\r\n",
        "\r\n",
        "sampleDict['location'] = sampleDict.pop('city')\r\n",
        "print(sampleDict)"
      ],
      "execution_count": 39,
      "outputs": [
        {
          "output_type": "stream",
          "text": [
            "{'name': 'Kelly', 'age': 25, 'salary': 8000, 'location': 'New york'}\n"
          ],
          "name": "stdout"
        }
      ]
    },
    {
      "cell_type": "markdown",
      "metadata": {
        "id": "1QdYGZ0CSffX"
      },
      "source": [
        "#9: Get the key corresponding to the minimum value from the following dictionary"
      ]
    },
    {
      "cell_type": "code",
      "metadata": {
        "colab": {
          "base_uri": "https://localhost:8080/"
        },
        "id": "yMvAjtraSgre",
        "outputId": "ef5b30be-030b-4bb6-8535-a48e679e18b0"
      },
      "source": [
        "sampleDict = {\r\n",
        "              'Physics' : 82,\r\n",
        "              'Math'    : 65,\r\n",
        "              'history' : 75\r\n",
        "            }\r\n",
        "print(min(sampleDict, key = sampleDict.get))"
      ],
      "execution_count": 44,
      "outputs": [
        {
          "output_type": "stream",
          "text": [
            "Math\n"
          ],
          "name": "stdout"
        }
      ]
    },
    {
      "cell_type": "markdown",
      "metadata": {
        "id": "bVymcQxATOBu"
      },
      "source": [
        "#10: Given a Python dictionary, Change Brad’s salary to 8500\r\n"
      ]
    },
    {
      "cell_type": "code",
      "metadata": {
        "colab": {
          "base_uri": "https://localhost:8080/"
        },
        "id": "-hdtw5o1TRsH",
        "outputId": "a7dba4ff-5e5b-4cae-b34d-6da4a5951fc5"
      },
      "source": [
        "sampleDict = {\r\n",
        "              'emp1': {'name': 'Jhon', 'salary': 7500},\r\n",
        "              'emp2': {'name': 'Emma', 'salary': 8000},\r\n",
        "              'emp3': {'name': 'Brad', 'salary': 6500}\r\n",
        "            }\r\n",
        "\r\n",
        "sampleDict['emp3'] ['salary'] = 8500\r\n",
        "print(sampleDict)"
      ],
      "execution_count": 48,
      "outputs": [
        {
          "output_type": "stream",
          "text": [
            "{'emp1': {'name': 'Jhon', 'salary': 7500}, 'emp2': {'name': 'Emma', 'salary': 8000}, 'emp3': {'name': 'Brad', 'salary': 8500}}\n"
          ],
          "name": "stdout"
        }
      ]
    }
  ]
}