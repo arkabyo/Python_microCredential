print("Unit 2, L3 List Assignment : Avijit Roy\n\n")
# Create a list of 5 of your favorite tv shows.
movies = ["Harry Potter", "Soul", "Life of Pie", "The Pursuit of Happyness", "Hachi: A Dog's Tale"]

# Print the list in its original order.
print("\nList in original order: " + str(movies))

# Use the sorted() function to print the list in alphabetical order.  How is sorted() different from sort()?
print("\nList printed in sorted order using sorted() : " + str(sorted(movies)))

# sorted() sorts the list remporarily in the print statement where sort() sorts it permanently.
# Every print statement after sort() will print the list sorted
# Every print statement after sorted() will print the list as original order

#Print out your original list.
print("\nList in original order: " + str(movies))

#Used sorted() to print your list in reverse alphabetical order.
print("\nList printed in sorted order using sorted() reverse : " + str(sorted(movies, reverse=True)))

#Create a message indicating how many favorite TV shows you have – use the len() function.
print("\nI have total " + str(len(movies)) + " favorite movies")
